{
 "cells": [
  {
   "cell_type": "markdown",
   "metadata": {},
   "source": [
    "# Estimando $\\beta$ de los activos"
   ]
  },
  {
   "cell_type": "markdown",
   "metadata": {},
   "source": [
    "<img style=\"float: right; margin: 0px 0px 15px 15px;\" src=\"https://upload.wikimedia.org/wikipedia/commons/4/48/Capital_market_line_of_CAPM.svg\" width=\"400px\" height=\"400px\" />\n",
    "\n",
    "En la clase anterior aprendimos \n",
    "- ¿qué es el CAPM?; \n",
    "- ¿cuáles son los supuestos sobre los que se funda el CAPM?;\n",
    "- derivamos la fórmula del CAPM; y\n",
    "- aprendimos como obtener la $\\beta$ de un portafolio a partir de la $\\beta$ de activos individuales.\n",
    "\n",
    "En la clase de hoy estudiaremos una forma de estimar los $\\beta$ de activos individuales.\n",
    "\n",
    "**Objetivos:**\n",
    "- Revisitar riesgo sistemático y no sistemático.\n",
    "- Estudiar un método para estimar las $\\beta$ de los activos.\n",
    "\n",
    "*Referencia:*\n",
    "- Notas del curso \"Portfolio Selection and Risk Management\", Rice University, disponible en Coursera.\n",
    "- [Notas del curso \"Financial Engineering\", Columbia University](http://www.columbia.edu/~ks20/FE-Notes/FE-Notes-Sigman.html)\n",
    "___"
   ]
  },
  {
   "cell_type": "markdown",
   "metadata": {},
   "source": [
    "## 1. Riesgo sistemático y no sistemático."
   ]
  },
  {
   "cell_type": "markdown",
   "metadata": {},
   "source": [
    "Recordamos la fórmula de CAPM:\n",
    "\n",
    "$$E[r_i]-r_f=\\beta_i(E[r_M]-r_f),$$\n",
    "\n",
    "donde $\\beta_i=\\frac{\\sigma_{M,i}}{\\sigma_M^2}$ y $\\sigma_{M,i}$ es la covarianza del portafolio de mercado con el activo individual $i$."
   ]
  },
  {
   "cell_type": "markdown",
   "metadata": {},
   "source": [
    "Todas las anteriores son variables determinísiticas.\n",
    "\n",
    "- ¿Qué pasa si usamos el CAPM como un modelo de rendimientos? Es decir,\n",
    "\n",
    "$$r_i=r_f+\\beta_i(r_M-r_f)+\\epsilon_i,$$\n",
    "\n",
    "donde $\\epsilon_i$ es un término de error."
   ]
  },
  {
   "cell_type": "markdown",
   "metadata": {},
   "source": [
    "<font color=green> Despejando $\\epsilon_i$, tenemos que: </font>\n",
    "\n",
    "- $E[\\epsilon_i]=0$, y\n",
    "- $cov(\\epsilon_i,r_M)=0$.\n",
    "\n",
    "<font color=green> Ver en el tablero. </font>"
   ]
  },
  {
   "cell_type": "markdown",
   "metadata": {},
   "source": [
    "Entonces, la varianza del activo $i$ es:\n",
    "\n",
    "$$\\sigma_i^2=\\beta_i^2\\sigma_M^2+var(\\epsilon_i),$$\n",
    "\n",
    "donde el primer término corresponde al riesgo sistemático (de mercado) y el segundo al riesgo idiosincrático.\n",
    "___"
   ]
  },
  {
   "cell_type": "markdown",
   "metadata": {},
   "source": [
    "## 2. Estimando $\\beta$ para un activo."
   ]
  },
  {
   "cell_type": "markdown",
   "metadata": {},
   "source": [
    "- En el mercado real, la cantidad de activos es ENORME, y tratar de construir el portafolio de mercado sería una tarea grandiosa, pero poco realista para un analista financiero. \n",
    "- Por lo tanto, los índices de mercado han sido creados para intentar aproximar el portafolio de mercado.\n",
    "- Dicho índice es un portafolio más pequeño que el de mercado, construido por los que se consideran los activos más dominantes, y que capturan la esencia de el portafolio de mercado."
   ]
  },
  {
   "cell_type": "markdown",
   "metadata": {},
   "source": [
    "- El índice de mercado más conocido es el Standard & Poor’s 500-stock index (S&P), compuesto de 500 activos.\n",
    "- Un $\\beta$ para un activo dado, se puede estimar utilizando el S&P en reemplazo de M, y utilizando datos históricos para ambos rendimientos (el del activo y el del S&P500).\n",
    "- Por ejemplo, considere un activo $i$ para el cual queremos estimar su $\\beta_i$.\n",
    "- Este estimado se construye usando medias, varianzas y covarianzas muestrales como sigue:\n",
    " - Escogemos $N$ rendimientos históricos, tales como los reportados mensualmente hace tres años.\n",
    " - Para $k=1,2,\\dots,N$, $r_{ik}$ y $r_{S\\&Pk}$ denotan el $k-$ésimo valor muestral de los rendimietos.\n",
    "\n",
    "Entonces\n",
    "\n",
    "$$\\hat{E[r_i]}=\\frac{1}{N}\\sum_{k=1}^{N}r_{ik}, \\text{ y}$$\n",
    "\n",
    "$$\\hat{E[r_{S\\&P}]}=\\frac{1}{N}\\sum_{k=1}^{N}r_{S\\&Pk}.$$"
   ]
  },
  {
   "cell_type": "markdown",
   "metadata": {},
   "source": [
    "Además, la varianza $\\sigma_{S\\&P}^2$ se estima como\n",
    "\n",
    "$$\\hat{\\sigma_{S\\&P}^2}=\\frac{1}{N-1}\\sum_{k=1}^{N}(r_{S\\&Pk}-\\hat{E[r_{S\\&P}]})^2,$$\n",
    "\n",
    "y la covarianza $\\sigma_{S\\&P,i}$\n",
    "\n",
    "$$\\hat{\\sigma_{S\\&P,i}}=\\frac{1}{N-1}\\sum_{k=1}^{N}(r_{S\\&Pk}-\\hat{E[r_{S\\&P}]})(r_{ik}-\\hat{E[r_i]})$$"
   ]
  },
  {
   "cell_type": "markdown",
   "metadata": {},
   "source": [
    "Finalmente, \n",
    "\n",
    "$$\\hat{\\beta_i}=\\frac{\\hat{\\sigma_{S\\&P,i}}}{\\hat{\\sigma_{S\\&P}^2}}.$$"
   ]
  },
  {
   "cell_type": "markdown",
   "metadata": {},
   "source": [
    "### Ejemplo...\n",
    "\n",
    "Entrar a yahoo finance, a la información de MSFT, AAPL y ^GSPC."
   ]
  },
  {
   "cell_type": "code",
   "execution_count": 1,
   "metadata": {},
   "outputs": [],
   "source": [
    "# Importar paquetes\n",
    "import pandas as pd\n",
    "import pandas_datareader.data as web"
   ]
  },
  {
   "cell_type": "code",
   "execution_count": 2,
   "metadata": {},
   "outputs": [],
   "source": [
    "# Función para descargar precios de cierre ajustados:\n",
    "def get_adj_closes(tickers, start_date=None, end_date=None, freq='m'):\n",
    "    # Fecha inicio por defecto (start_date='2010-01-01') y fecha fin por defecto (end_date=today)\n",
    "    # Descargamos DataFrame con todos los datos\n",
    "    closes = web.YahooDailyReader(symbols=tickers, start=start_date, end=end_date, interval=freq).read()['Adj Close']\n",
    "    # Se ordenan los índices de manera ascendente\n",
    "    closes.sort_index(inplace=True)\n",
    "    return closes"
   ]
  },
  {
   "cell_type": "code",
   "execution_count": 13,
   "metadata": {},
   "outputs": [],
   "source": [
    "# Importar datos de AAPL, MSFT, y ^GSPC\n",
    "closes = get_adj_closes(tickers=['AAPL', 'MSFT', '^GSPC'],\n",
    "                        start_date='2015-10-30')"
   ]
  },
  {
   "cell_type": "code",
   "execution_count": 14,
   "metadata": {},
   "outputs": [
    {
     "data": {
      "text/html": [
       "<div>\n",
       "<style scoped>\n",
       "    .dataframe tbody tr th:only-of-type {\n",
       "        vertical-align: middle;\n",
       "    }\n",
       "\n",
       "    .dataframe tbody tr th {\n",
       "        vertical-align: top;\n",
       "    }\n",
       "\n",
       "    .dataframe thead th {\n",
       "        text-align: right;\n",
       "    }\n",
       "</style>\n",
       "<table border=\"1\" class=\"dataframe\">\n",
       "  <thead>\n",
       "    <tr style=\"text-align: right;\">\n",
       "      <th>Symbols</th>\n",
       "      <th>AAPL</th>\n",
       "      <th>MSFT</th>\n",
       "      <th>^GSPC</th>\n",
       "    </tr>\n",
       "    <tr>\n",
       "      <th>Date</th>\n",
       "      <th></th>\n",
       "      <th></th>\n",
       "      <th></th>\n",
       "    </tr>\n",
       "  </thead>\n",
       "  <tbody>\n",
       "    <tr>\n",
       "      <th>2015-11-01</th>\n",
       "      <td>27.330675</td>\n",
       "      <td>49.393021</td>\n",
       "      <td>2080.409912</td>\n",
       "    </tr>\n",
       "    <tr>\n",
       "      <th>2015-12-01</th>\n",
       "      <td>24.422157</td>\n",
       "      <td>50.759815</td>\n",
       "      <td>2043.939941</td>\n",
       "    </tr>\n",
       "    <tr>\n",
       "      <th>2016-01-01</th>\n",
       "      <td>22.584578</td>\n",
       "      <td>50.402992</td>\n",
       "      <td>1940.239990</td>\n",
       "    </tr>\n",
       "    <tr>\n",
       "      <th>2016-02-01</th>\n",
       "      <td>22.433773</td>\n",
       "      <td>46.551182</td>\n",
       "      <td>1932.229980</td>\n",
       "    </tr>\n",
       "    <tr>\n",
       "      <th>2016-03-01</th>\n",
       "      <td>25.424799</td>\n",
       "      <td>50.893883</td>\n",
       "      <td>2059.739990</td>\n",
       "    </tr>\n",
       "    <tr>\n",
       "      <th>...</th>\n",
       "      <td>...</td>\n",
       "      <td>...</td>\n",
       "      <td>...</td>\n",
       "    </tr>\n",
       "    <tr>\n",
       "      <th>2020-08-01</th>\n",
       "      <td>128.807755</td>\n",
       "      <td>224.986130</td>\n",
       "      <td>3500.310059</td>\n",
       "    </tr>\n",
       "    <tr>\n",
       "      <th>2020-09-01</th>\n",
       "      <td>115.809998</td>\n",
       "      <td>210.330002</td>\n",
       "      <td>3363.000000</td>\n",
       "    </tr>\n",
       "    <tr>\n",
       "      <th>2020-10-01</th>\n",
       "      <td>108.860001</td>\n",
       "      <td>202.470001</td>\n",
       "      <td>3269.959961</td>\n",
       "    </tr>\n",
       "    <tr>\n",
       "      <th>2020-11-01</th>\n",
       "      <td>119.029999</td>\n",
       "      <td>223.289993</td>\n",
       "      <td>3510.449951</td>\n",
       "    </tr>\n",
       "    <tr>\n",
       "      <th>2020-11-06</th>\n",
       "      <td>118.720001</td>\n",
       "      <td>222.698395</td>\n",
       "      <td>3505.989990</td>\n",
       "    </tr>\n",
       "  </tbody>\n",
       "</table>\n",
       "<p>62 rows × 3 columns</p>\n",
       "</div>"
      ],
      "text/plain": [
       "Symbols           AAPL        MSFT        ^GSPC\n",
       "Date                                           \n",
       "2015-11-01   27.330675   49.393021  2080.409912\n",
       "2015-12-01   24.422157   50.759815  2043.939941\n",
       "2016-01-01   22.584578   50.402992  1940.239990\n",
       "2016-02-01   22.433773   46.551182  1932.229980\n",
       "2016-03-01   25.424799   50.893883  2059.739990\n",
       "...                ...         ...          ...\n",
       "2020-08-01  128.807755  224.986130  3500.310059\n",
       "2020-09-01  115.809998  210.330002  3363.000000\n",
       "2020-10-01  108.860001  202.470001  3269.959961\n",
       "2020-11-01  119.029999  223.289993  3510.449951\n",
       "2020-11-06  118.720001  222.698395  3505.989990\n",
       "\n",
       "[62 rows x 3 columns]"
      ]
     },
     "execution_count": 14,
     "metadata": {},
     "output_type": "execute_result"
    }
   ],
   "source": [
    "closes"
   ]
  },
  {
   "cell_type": "code",
   "execution_count": 26,
   "metadata": {},
   "outputs": [],
   "source": [
    "# Obtener rendimientos mensuales\n",
    "ret = closes.pct_change().dropna()"
   ]
  },
  {
   "cell_type": "code",
   "execution_count": 27,
   "metadata": {},
   "outputs": [
    {
     "data": {
      "text/html": [
       "<div>\n",
       "<style scoped>\n",
       "    .dataframe tbody tr th:only-of-type {\n",
       "        vertical-align: middle;\n",
       "    }\n",
       "\n",
       "    .dataframe tbody tr th {\n",
       "        vertical-align: top;\n",
       "    }\n",
       "\n",
       "    .dataframe thead th {\n",
       "        text-align: right;\n",
       "    }\n",
       "</style>\n",
       "<table border=\"1\" class=\"dataframe\">\n",
       "  <thead>\n",
       "    <tr style=\"text-align: right;\">\n",
       "      <th>Symbols</th>\n",
       "      <th>AAPL</th>\n",
       "      <th>MSFT</th>\n",
       "      <th>^GSPC</th>\n",
       "    </tr>\n",
       "    <tr>\n",
       "      <th>Date</th>\n",
       "      <th></th>\n",
       "      <th></th>\n",
       "      <th></th>\n",
       "    </tr>\n",
       "  </thead>\n",
       "  <tbody>\n",
       "    <tr>\n",
       "      <th>2015-12-01</th>\n",
       "      <td>-0.106420</td>\n",
       "      <td>0.027672</td>\n",
       "      <td>-0.017530</td>\n",
       "    </tr>\n",
       "    <tr>\n",
       "      <th>2016-01-01</th>\n",
       "      <td>-0.075242</td>\n",
       "      <td>-0.007030</td>\n",
       "      <td>-0.050735</td>\n",
       "    </tr>\n",
       "    <tr>\n",
       "      <th>2016-02-01</th>\n",
       "      <td>-0.006677</td>\n",
       "      <td>-0.076420</td>\n",
       "      <td>-0.004128</td>\n",
       "    </tr>\n",
       "    <tr>\n",
       "      <th>2016-03-01</th>\n",
       "      <td>0.133327</td>\n",
       "      <td>0.093289</td>\n",
       "      <td>0.065991</td>\n",
       "    </tr>\n",
       "    <tr>\n",
       "      <th>2016-04-01</th>\n",
       "      <td>-0.139921</td>\n",
       "      <td>-0.097049</td>\n",
       "      <td>0.002699</td>\n",
       "    </tr>\n",
       "    <tr>\n",
       "      <th>...</th>\n",
       "      <td>...</td>\n",
       "      <td>...</td>\n",
       "      <td>...</td>\n",
       "    </tr>\n",
       "    <tr>\n",
       "      <th>2020-08-01</th>\n",
       "      <td>0.214380</td>\n",
       "      <td>0.100093</td>\n",
       "      <td>0.070065</td>\n",
       "    </tr>\n",
       "    <tr>\n",
       "      <th>2020-09-01</th>\n",
       "      <td>-0.100908</td>\n",
       "      <td>-0.065142</td>\n",
       "      <td>-0.039228</td>\n",
       "    </tr>\n",
       "    <tr>\n",
       "      <th>2020-10-01</th>\n",
       "      <td>-0.060012</td>\n",
       "      <td>-0.037370</td>\n",
       "      <td>-0.027666</td>\n",
       "    </tr>\n",
       "    <tr>\n",
       "      <th>2020-11-01</th>\n",
       "      <td>0.093423</td>\n",
       "      <td>0.102830</td>\n",
       "      <td>0.073545</td>\n",
       "    </tr>\n",
       "    <tr>\n",
       "      <th>2020-11-06</th>\n",
       "      <td>-0.002604</td>\n",
       "      <td>-0.002649</td>\n",
       "      <td>-0.001270</td>\n",
       "    </tr>\n",
       "  </tbody>\n",
       "</table>\n",
       "<p>61 rows × 3 columns</p>\n",
       "</div>"
      ],
      "text/plain": [
       "Symbols         AAPL      MSFT     ^GSPC\n",
       "Date                                    \n",
       "2015-12-01 -0.106420  0.027672 -0.017530\n",
       "2016-01-01 -0.075242 -0.007030 -0.050735\n",
       "2016-02-01 -0.006677 -0.076420 -0.004128\n",
       "2016-03-01  0.133327  0.093289  0.065991\n",
       "2016-04-01 -0.139921 -0.097049  0.002699\n",
       "...              ...       ...       ...\n",
       "2020-08-01  0.214380  0.100093  0.070065\n",
       "2020-09-01 -0.100908 -0.065142 -0.039228\n",
       "2020-10-01 -0.060012 -0.037370 -0.027666\n",
       "2020-11-01  0.093423  0.102830  0.073545\n",
       "2020-11-06 -0.002604 -0.002649 -0.001270\n",
       "\n",
       "[61 rows x 3 columns]"
      ]
     },
     "execution_count": 27,
     "metadata": {},
     "output_type": "execute_result"
    }
   ],
   "source": [
    "ret"
   ]
  },
  {
   "cell_type": "code",
   "execution_count": 28,
   "metadata": {},
   "outputs": [
    {
     "data": {
      "text/html": [
       "<div>\n",
       "<style scoped>\n",
       "    .dataframe tbody tr th:only-of-type {\n",
       "        vertical-align: middle;\n",
       "    }\n",
       "\n",
       "    .dataframe tbody tr th {\n",
       "        vertical-align: top;\n",
       "    }\n",
       "\n",
       "    .dataframe thead th {\n",
       "        text-align: right;\n",
       "    }\n",
       "</style>\n",
       "<table border=\"1\" class=\"dataframe\">\n",
       "  <thead>\n",
       "    <tr style=\"text-align: right;\">\n",
       "      <th>Symbols</th>\n",
       "      <th>AAPL</th>\n",
       "      <th>MSFT</th>\n",
       "      <th>^GSPC</th>\n",
       "    </tr>\n",
       "    <tr>\n",
       "      <th>Symbols</th>\n",
       "      <th></th>\n",
       "      <th></th>\n",
       "      <th></th>\n",
       "    </tr>\n",
       "  </thead>\n",
       "  <tbody>\n",
       "    <tr>\n",
       "      <th>AAPL</th>\n",
       "      <td>0.007619</td>\n",
       "      <td>0.003042</td>\n",
       "      <td>0.002423</td>\n",
       "    </tr>\n",
       "    <tr>\n",
       "      <th>MSFT</th>\n",
       "      <td>0.003042</td>\n",
       "      <td>0.002822</td>\n",
       "      <td>0.001599</td>\n",
       "    </tr>\n",
       "    <tr>\n",
       "      <th>^GSPC</th>\n",
       "      <td>0.002423</td>\n",
       "      <td>0.001599</td>\n",
       "      <td>0.001821</td>\n",
       "    </tr>\n",
       "  </tbody>\n",
       "</table>\n",
       "</div>"
      ],
      "text/plain": [
       "Symbols      AAPL      MSFT     ^GSPC\n",
       "Symbols                              \n",
       "AAPL     0.007619  0.003042  0.002423\n",
       "MSFT     0.003042  0.002822  0.001599\n",
       "^GSPC    0.002423  0.001599  0.001821"
      ]
     },
     "execution_count": 28,
     "metadata": {},
     "output_type": "execute_result"
    }
   ],
   "source": [
    "# Obtener matriz de covarianza\n",
    "cov = ret.cov()\n",
    "cov"
   ]
  },
  {
   "cell_type": "code",
   "execution_count": 29,
   "metadata": {},
   "outputs": [
    {
     "data": {
      "text/plain": [
       "0.88"
      ]
     },
     "execution_count": 29,
     "metadata": {},
     "output_type": "execute_result"
    }
   ],
   "source": [
    "# Beta de Microsoft\n",
    "beta_MSFT = cov.loc['MSFT', '^GSPC']/cov.loc['^GSPC', '^GSPC']\n",
    "round(beta_MSFT, 2)"
   ]
  },
  {
   "cell_type": "code",
   "execution_count": 30,
   "metadata": {},
   "outputs": [
    {
     "data": {
      "text/plain": [
       "1.33"
      ]
     },
     "execution_count": 30,
     "metadata": {},
     "output_type": "execute_result"
    }
   ],
   "source": [
    "# Beta de Apple\n",
    "beta_AAPL = cov.loc['AAPL', '^GSPC']/cov.loc['^GSPC', '^GSPC']\n",
    "round(beta_AAPL, 2)"
   ]
  },
  {
   "cell_type": "markdown",
   "metadata": {},
   "source": [
    "## 3. Ejercicios"
   ]
  },
  {
   "cell_type": "code",
   "execution_count": 34,
   "metadata": {},
   "outputs": [
    {
     "data": {
      "image/png": "[encoded data removed]",
      "text/plain": [
       "<IPython.core.display.Image object>"
      ]
     },
     "execution_count": 34,
     "metadata": {},
     "output_type": "execute_result"
    }
   ],
   "source": [
    "from IPython.display import Image\n",
    "Image(\"Ejercicio1y2clase16PF.png\")"
   ]
  },
  {
   "cell_type": "markdown",
   "metadata": {},
   "source": [
    "Su portafolio de inversión consiste de $\\$150,000$ invertidos en un solo activo. Suponga que la tasa de interés libre de riesgo es $3\\%$. Este activo tiene un rendimiento esperado del $12\\%$, y una volatilidad del $40\\%$, y el portafolio de mercado tiene un rendimiento esperado del $10\\%$ y una volatilidad del $18\\%$. Bajo las suposiciones del CAPM, ¿cuál es la volatilidad de un mejor portafolio alternativo que tiene el mismo rendimiento que el activo?\n",
    "\n",
    "A. $\\sigma = 15.52\\%$\n",
    "\n",
    "B. $\\sigma = 23.14\\%$\n",
    "\n",
    "C. $\\sigma = 30.25\\%$ \n",
    "\n",
    "D. $\\sigma = 35.13\\%$ "
   ]
  },
  {
   "cell_type": "code",
   "execution_count": 31,
   "metadata": {},
   "outputs": [
    {
     "data": {
      "text/plain": [
       "0.23142857142857137"
      ]
     },
     "execution_count": 31,
     "metadata": {},
     "output_type": "execute_result"
    }
   ],
   "source": [
    "rf = .03\n",
    "Eri = 0.12\n",
    "si = 0.4\n",
    "Erm = 0.1\n",
    "sm = 0.18\n",
    "RSm = (Erm-rf)/sm\n",
    "sp = (Eri-rf)/RSm\n",
    "sp"
   ]
  },
  {
   "cell_type": "markdown",
   "metadata": {},
   "source": [
    "Respuesta b: 23.14%"
   ]
  },
  {
   "cell_type": "markdown",
   "metadata": {},
   "source": [
    "Con los mismos datos del ejercicio anterior, y suponiendo que usted está conforme con el riesgo del activo, bajo las suposiciones de CAPM, ¿cuál sería un mejor rendimiento esperado que debería ganar?\n",
    "\n",
    "A. $E[r] = 13.65\\%$\n",
    "\n",
    "B. $E[r] = 15.30\\%$\n",
    "\n",
    "C. $E[r] = 18.56\\%$\n",
    "\n",
    "D. $E[r] = 20.38\\%$ "
   ]
  },
  {
   "cell_type": "code",
   "execution_count": 33,
   "metadata": {},
   "outputs": [
    {
     "data": {
      "text/plain": [
       "0.18555555555555558"
      ]
     },
     "execution_count": 33,
     "metadata": {},
     "output_type": "execute_result"
    }
   ],
   "source": [
    "Erp = RSm*si+rf\n",
    "Erp"
   ]
  },
  {
   "cell_type": "markdown",
   "metadata": {},
   "source": [
    "Respuesta c: 18.56%"
   ]
  },
  {
   "cell_type": "markdown",
   "metadata": {},
   "source": [
    "Suponga que usted tiene invertidos $\\$30,000$ en los siguientes cuatro activos:\n",
    "\n",
    "| Activo        | Cantidad invertida | $\\beta$ |\n",
    "| ------------- | ------------------ | ------- |\n",
    "| Activo A      | $\\$5,000$          | 0.75    |\n",
    "| Activo B      | $\\$10,000$         | 1.10    |\n",
    "| Activo C      | $\\$8,000$          | 1.36    |\n",
    "| Activo D      | $\\$7,000$          | 1.88    |\n",
    "\n",
    "La tasa libre de riesgo es del $2\\%$ y el rendimiento esperado del portafolio de mercado es del $8\\%$. Con base en el CAPM, ¿cuál es la $\\beta$ del portafolio?\n",
    "\n",
    "A. $\\beta_P = 0.95$\n",
    "\n",
    "B. $\\beta_P = 1.19$\n",
    "\n",
    "C. $\\beta_P = 1.29$\n",
    "\n",
    "D. $\\beta_P = 1.62$"
   ]
  },
  {
   "cell_type": "code",
   "execution_count": 35,
   "metadata": {},
   "outputs": [
    {
     "data": {
      "text/plain": [
       "1.2930000000000001"
      ]
     },
     "execution_count": 35,
     "metadata": {},
     "output_type": "execute_result"
    }
   ],
   "source": [
    "Cap = 30000\n",
    "A = 5000\n",
    "B = 10000\n",
    "C = 8000\n",
    "D = 7000\n",
    "Bp = A/Cap * .75 +B/Cap * 1.10 +C/Cap * 1.36 + D/Cap * 1.88\n",
    "Bp"
   ]
  },
  {
   "cell_type": "markdown",
   "metadata": {},
   "source": [
    "La respuesta es C: 1.29"
   ]
  },
  {
   "cell_type": "markdown",
   "metadata": {},
   "source": [
    "Considere la siguiente distribución de rendimientos:\n",
    "\n",
    "| Estado de la economía | Probabilidad       | $R_A$   |\n",
    "| --------------------- | ------------------ | ------- |\n",
    "| Depresión             | 0.30               | 0.10    |\n",
    "| Normal                | 0.50               | 0.15    |\n",
    "| Expansión             | 0.20               | 0.25    |\n",
    "\n",
    "Suponiendo que el CAPM es válido, que la volatilidad del portafolio de mercado es $\\sigma_M=0.10$ y que la correlación del activo A y el portafolio de mercado es $\\rho_{A,M}=0.9$, ¿cuál es el valor de $\\beta_A$?\n",
    "\n",
    "A. $\\beta_A=0.25$\n",
    "\n",
    "B. $\\beta_A=0.47$\n",
    "\n",
    "C. $\\beta_A=0.55$\n",
    "\n",
    "D. $\\beta_A=1.15$"
   ]
  },
  {
   "cell_type": "code",
   "execution_count": 46,
   "metadata": {},
   "outputs": [
    {
     "data": {
      "text/plain": [
       "0.46981379290097475"
      ]
     },
     "execution_count": 46,
     "metadata": {},
     "output_type": "execute_result"
    }
   ],
   "source": [
    "import numpy as np\n",
    "sm = .1\n",
    "ro_am = .9\n",
    "ErA = .3*.1 + .5*.15 + .2*.25\n",
    "sA = np.sqrt((0.3*(0.1-ErA)**2)+(0.5*(0.15-ErA)**2)+(0.2*(0.25-ErA)**2))\n",
    "sA,ErA\n",
    "BetaA = ro_am*sA/sm\n",
    "BetaA"
   ]
  },
  {
   "cell_type": "markdown",
   "metadata": {},
   "source": [
    "Respuesta B"
   ]
  },
  {
   "cell_type": "markdown",
   "metadata": {},
   "source": [
    "Un fondo de inversiones con $\\beta=0.8$ tiene un rendimiento esperado del $16\\%$. Si la tasa libre de riesgo es $4\\%$ y el rendimiento esperado del portafolio de mercado es del $13\\%$, ¿debería invertir en este fondo?\n",
    "\n",
    "A. Si.\n",
    "\n",
    "B. No."
   ]
  },
  {
   "cell_type": "code",
   "execution_count": 47,
   "metadata": {},
   "outputs": [
    {
     "data": {
      "text/plain": [
       "0.11199999999999999"
      ]
     },
     "execution_count": 47,
     "metadata": {},
     "output_type": "execute_result"
    }
   ],
   "source": [
    "Betap = 0.8\n",
    "Erp = 0.16\n",
    "Erm = 0.13\n",
    "rf = 0.04\n",
    "Erpcapm = rf + Betap*(Erm-rf)\n",
    "Erpcapm"
   ]
  },
  {
   "cell_type": "markdown",
   "metadata": {},
   "source": [
    "Respuesta A: Sí deberíamos invertir, ya que nos ofrecen un rendimiento mayor al esperado en el CAPM"
   ]
  },
  {
   "cell_type": "markdown",
   "metadata": {},
   "source": [
    "Suponga que encontramos un activo el cual, con base en su precio al día de hoy, tiene un rendimiento esperado más bajo que lo que sugiere la línea de mercado de activos. Si el CAPM es válido, ¿cuál(es) de las siguientes proposiciones es (son) verdaderas?\n",
    "\n",
    "A. Si el activo tiene un rendimiento esperado más bajo que el sugerido por la línea, significa que su precio es muy bajo.\n",
    "\n",
    "B. Si el activo tiene un rendimiento esperado más bajo que el sugerido por la línea, significa que su precio es muy alto.\n",
    "\n",
    "C. El activo se grafica por encima de la línea.\n",
    "\n",
    "D. El activo se grafica bajo la línea."
   ]
  },
  {
   "cell_type": "markdown",
   "metadata": {},
   "source": [
    "Respuesta B y D, el precio es muy alto y el activo se grafica bajo la línea"
   ]
  },
  {
   "cell_type": "markdown",
   "metadata": {},
   "source": [
    "# Anuncios parroquiales\n",
    "\n",
    "## 1. Último quiz el martes 10 de Noviembre.\n",
    "## 2. Revisar archivo Tarea7: para el martes 3 de Noviembre.\n",
    "## 3. Martes 3 de Noviembre y Viernes 6 de Noviembre no hay clase."
   ]
  },
  {
   "cell_type": "markdown",
   "metadata": {},
   "source": [
    "<script>\n",
    "  $(document).ready(function(){\n",
    "    $('div.prompt').hide();\n",
    "    $('div.back-to-top').hide();\n",
    "    $('nav#menubar').hide();\n",
    "    $('.breadcrumb').hide();\n",
    "    $('.hidden-print').hide();\n",
    "  });\n",
    "</script>\n",
    "\n",
    "<footer id=\"attribution\" style=\"float:right; color:#808080; background:#fff;\">\n",
    "Created with Jupyter by Esteban Jiménez Rodríguez.\n",
    "</footer>"
   ]
  }
 ],
 "metadata": {
  "kernelspec": {
   "display_name": "Python 3",
   "language": "python",
   "name": "python3"
  },
  "language_info": {
   "codemirror_mode": {
    "name": "ipython",
    "version": 3
   },
   "file_extension": ".py",
   "mimetype": "text/x-python",
   "name": "python",
   "nbconvert_exporter": "python",
   "pygments_lexer": "ipython3",
   "version": "3.7.1"
  }
 },
 "nbformat": 4,
 "nbformat_minor": 2
}
