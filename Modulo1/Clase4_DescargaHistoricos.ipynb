{
 "cells": [
  {
   "cell_type": "markdown",
   "metadata": {},
   "source": [
    "# Descarga de históricos de precios\n",
    "\n",
    "<img style=\"float: right; margin: 0px 0px 15px 15px;\" src=\"https://upload.wikimedia.org/wikipedia/commons/7/7d/Copper_Price_History_USD.png\" width=\"600px\" height=\"400px\" />\n",
    "\n",
    "> Entonces, en la clase anterior vimos que podemos caracterizar la distribución de rendimientos de un activo mediante una medida de tendencia central (media: rendimiento esperado) y una medida de dispersión (desviación estándar: volatilidad). \n",
    "\n",
    "> Estas medidas se pueden calcular cuando tenemos escenarios probables de la economía y conocemos sus probabilidades de ocurrencia. Ahora, si no conocemos dichos escenarios, ¿qué podemos hacer?"
   ]
  },
  {
   "cell_type": "markdown",
   "metadata": {},
   "source": [
    "*Objetivos:*\n",
    "- Aprender a importar datos desde archivos separados por comas (extensión `.csv`).\n",
    "- Descargar el paquete `pandas-datareader`.\n",
    "- Aprender a descargar datos desde fuentes remotas.\n",
    "\n",
    "**Referencias:**\n",
    "- http://pandas.pydata.org/\n",
    "- https://pandas-datareader.readthedocs.io/en/latest/"
   ]
  },
  {
   "cell_type": "markdown",
   "metadata": {},
   "source": [
    "## 1. Importar datos desde archivos locales\n",
    "\n",
    "<img style=\"float: left; margin: 0px 0px 15px 15px;\" src=\"https://upload.wikimedia.org/wikipedia/commons/8/86/Microsoft_Excel_2013_logo.svg\" width=\"300px\" height=\"125px\" />\n",
    "\n",
    "<img style=\"float: right; margin: 0px 0px 15px 15px;\" src=\"https://upload.wikimedia.org/wikipedia/commons/0/0a/Python.svg\" width=\"300px\" height=\"125px\" />"
   ]
  },
  {
   "cell_type": "markdown",
   "metadata": {},
   "source": [
    "### 1.1. ¿Porqué?\n",
    "\n",
    "- Muchas veces tenemos bases de datos proporcionadas como archivos locales.\n",
    "- Para poder analizar, procesar y tomar decisiones con estos datos, es necesario importarlos a python.\n",
    "- Ejemplos de archivos donde comúnmente se guardan bases de datos son: \n",
    " - `.xls` o `.xlsx`\n",
    " -  `.csv`\n",
    "- Excel es ampliamente usado en distintos campos de aplicación en todo el mundo.\n",
    "- Nos guste o no, esto también aplica a ciencia de datos (ingeniería financiera).\n",
    "- Muchos de ustedes en su futuro académico y profesional tendrán que trabajar con estas hojas de cálculo, pero no siempre querrán trabajar directamente con ellas si tienen que hacer un análisis un poco más avanzado de los datos.\n",
    "- Por eso en Python se han implementado herramientas para leer, escribir y manipular este tipo de archivos.\n",
    "\n",
    "En esta clase veremos cómo podemos trabajar con Excel y Python de manera básica utilizando la librería *pandas*."
   ]
  },
  {
   "cell_type": "markdown",
   "metadata": {},
   "source": [
    "### 1.2. Reglas básicas para antes de leer hojas de cálculo\n",
    "\n",
    "Antes de comenzar a leer una hoja de cálculo en Python (o cualquier otro programa), debemos considerar el ajustar nuestro archivo para cumplir ciertos principios, como:\n",
    "\n",
    "- La primer fila de la hoja de cálculo se reserva para los títulos, mientras que la primer columna se usa para identificar la unidad de muestreo o indización de los datos (tiempo, fecha, eventos...)\n",
    "- Evitar nombres, valores o campos con espacios en blanco. De otra manera, cada palabra se interpreta como variable separada y resultan errores relacionados con el número de elementos por línea.\n",
    "- Los nombres cortos se prefieren sobre nombre largos.\n",
    "- Evite símbolos como ?, $, %, ^, &, *, (,),-,#, ?, ,,<,>, /, |, \\, [ ,] , {, y }.\n",
    "- Borre cualquier tipo de comentario que haya hecho en su archivo para evitar columnas extras.\n",
    "- Asegúrese de que cualquier valor inexistente esté indicado como NA.\n",
    "\n",
    "Si se hizo algún cambio, estar seguro de guardarlo. \n",
    "\n",
    "Si estás trabajando con Microsoft Excel, verás que hay muchas opciones para guardar archivos, a parte de las extensiones por defecto .xls or .xlsx. Para esto ir a “Save As” y seleccionar una de las extensiones listadas en “Save as Type”. \n",
    "\n",
    "La extensión más común es .csv (archivos de texto separados por comas)."
   ]
  },
  {
   "cell_type": "markdown",
   "metadata": {},
   "source": [
    "**Actividad.** Descargar precios de acciones de Apple (AAPL) de Yahoo Finance, con una ventana de tiempo desde el 01-01-2015 a hoy y frecuencia diaria.\n",
    "\n",
    "- Ir a https://finance.yahoo.com/.\n",
    "- Buscar cada una de las compañías solicitadas.\n",
    "- Dar click en la pestaña *'Historical Data'*.\n",
    "- Cambiar las fechas en *'Time Period'*, click en *'Apply'* y, finalmente, click en *'Download Data'*.\n",
    "- **¡POR FAVOR! GUARDAR ESTOS ARCHIVOS EN UNA CARPETA LLAMADA precios EN EL MISMO DIRECTORIO DONDE TIENEN ESTE ARCHIVO**."
   ]
  },
  {
   "cell_type": "markdown",
   "metadata": {},
   "source": [
    "### 1.3. Carguemos archivos .csv como ventanas de datos de pandas\n",
    "\n",
    "Ahora podemos comenzar a importar nuestros archivos.\n",
    "\n",
    "Una de las formas más comunes de trabajar con análisis de datos es en pandas. Esto es debido a que pandas está construido sobre NumPy y provee estructuras de datos y herramientas de análisis fáciles de usar."
   ]
  },
  {
   "cell_type": "code",
<<<<<<< Updated upstream
   "execution_count": 1,
=======
   "execution_count": 2,
>>>>>>> Stashed changes
   "metadata": {},
   "outputs": [],
   "source": [
    "# Importamos pandas\n",
    "import pandas as pd"
   ]
  },
  {
   "cell_type": "markdown",
   "metadata": {},
   "source": [
    "Para leer archivos `.csv`, utilizaremos la función `read_csv` de pandas:"
   ]
  },
  {
   "cell_type": "code",
<<<<<<< Updated upstream
   "execution_count": 2,
=======
   "execution_count": 3,
>>>>>>> Stashed changes
   "metadata": {},
   "outputs": [
    {
     "name": "stdout",
     "output_type": "stream",
     "text": [
      "Help on function read_csv in module pandas.io.parsers:\n",
      "\n",
<<<<<<< Updated upstream
      "read_csv(filepath_or_buffer: Union[str, pathlib.Path, IO[~AnyStr]], sep=',', delimiter=None, header='infer', names=None, index_col=None, usecols=None, squeeze=False, prefix=None, mangle_dupe_cols=True, dtype=None, engine=None, converters=None, true_values=None, false_values=None, skipinitialspace=False, skiprows=None, skipfooter=0, nrows=None, na_values=None, keep_default_na=True, na_filter=True, verbose=False, skip_blank_lines=True, parse_dates=False, infer_datetime_format=False, keep_date_col=False, date_parser=None, dayfirst=False, cache_dates=True, iterator=False, chunksize=None, compression='infer', thousands=None, decimal: str = '.', lineterminator=None, quotechar='\"', quoting=0, doublequote=True, escapechar=None, comment=None, encoding=None, dialect=None, error_bad_lines=True, warn_bad_lines=True, delim_whitespace=False, low_memory=True, memory_map=False, float_precision=None)\n",
      "    Read a comma-separated values (csv) file into DataFrame.\n",
=======
      "read_csv(filepath_or_buffer, sep=',', delimiter=None, header='infer', names=None, index_col=None, usecols=None, squeeze=False, prefix=None, mangle_dupe_cols=True, dtype=None, engine=None, converters=None, true_values=None, false_values=None, skipinitialspace=False, skiprows=None, nrows=None, na_values=None, keep_default_na=True, na_filter=True, verbose=False, skip_blank_lines=True, parse_dates=False, infer_datetime_format=False, keep_date_col=False, date_parser=None, dayfirst=False, iterator=False, chunksize=None, compression='infer', thousands=None, decimal=b'.', lineterminator=None, quotechar='\"', quoting=0, escapechar=None, comment=None, encoding=None, dialect=None, tupleize_cols=None, error_bad_lines=True, warn_bad_lines=True, skipfooter=0, doublequote=True, delim_whitespace=False, low_memory=True, memory_map=False, float_precision=None)\n",
      "    Read CSV (comma-separated) file into DataFrame\n",
>>>>>>> Stashed changes
      "    \n",
      "    Also supports optionally iterating or breaking of the file\n",
      "    into chunks.\n",
      "    \n",
<<<<<<< Updated upstream
      "    Additional help can be found in the online docs for\n",
      "    `IO Tools <https://pandas.pydata.org/pandas-docs/stable/user_guide/io.html>`_.\n",
      "    \n",
      "    Parameters\n",
      "    ----------\n",
      "    filepath_or_buffer : str, path object or file-like object\n",
      "        Any valid string path is acceptable. The string could be a URL. Valid\n",
      "        URL schemes include http, ftp, s3, and file. For file URLs, a host is\n",
      "        expected. A local file could be: file://localhost/path/to/table.csv.\n",
      "    \n",
      "        If you want to pass in a path object, pandas accepts any ``os.PathLike``.\n",
      "    \n",
      "        By file-like object, we refer to objects with a ``read()`` method, such as\n",
      "        a file handler (e.g. via builtin ``open`` function) or ``StringIO``.\n",
=======
      "    Additional help can be found in the `online docs for IO Tools\n",
      "    <http://pandas.pydata.org/pandas-docs/stable/io.html>`_.\n",
      "    \n",
      "    Parameters\n",
      "    ----------\n",
      "    filepath_or_buffer : str, pathlib.Path, py._path.local.LocalPath or any \\\n",
      "    object with a read() method (such as a file handle or StringIO)\n",
      "        The string could be a URL. Valid URL schemes include http, ftp, s3, and\n",
      "        file. For file URLs, a host is expected. For instance, a local file could\n",
      "        be file://localhost/path/to/table.csv\n",
>>>>>>> Stashed changes
      "    sep : str, default ','\n",
      "        Delimiter to use. If sep is None, the C engine cannot automatically detect\n",
      "        the separator, but the Python parsing engine can, meaning the latter will\n",
      "        be used and automatically detect the separator by Python's builtin sniffer\n",
      "        tool, ``csv.Sniffer``. In addition, separators longer than 1 character and\n",
      "        different from ``'\\s+'`` will be interpreted as regular expressions and\n",
      "        will also force the use of the Python parsing engine. Note that regex\n",
<<<<<<< Updated upstream
      "        delimiters are prone to ignoring quoted data. Regex example: ``'\\r\\t'``.\n",
      "    delimiter : str, default ``None``\n",
      "        Alias for sep.\n",
      "    header : int, list of int, default 'infer'\n",
=======
      "        delimiters are prone to ignoring quoted data. Regex example: ``'\\r\\t'``\n",
      "    delimiter : str, default ``None``\n",
      "        Alternative argument name for sep.\n",
      "    delim_whitespace : boolean, default False\n",
      "        Specifies whether or not whitespace (e.g. ``' '`` or ``'\\t'``) will be\n",
      "        used as the sep. Equivalent to setting ``sep='\\s+'``. If this option\n",
      "        is set to True, nothing should be passed in for the ``delimiter``\n",
      "        parameter.\n",
      "    \n",
      "        .. versionadded:: 0.18.1 support for the Python parser.\n",
      "    \n",
      "    header : int or list of ints, default 'infer'\n",
>>>>>>> Stashed changes
      "        Row number(s) to use as the column names, and the start of the\n",
      "        data.  Default behavior is to infer the column names: if no names\n",
      "        are passed the behavior is identical to ``header=0`` and column\n",
      "        names are inferred from the first line of the file, if column\n",
      "        names are passed explicitly then the behavior is identical to\n",
      "        ``header=None``. Explicitly pass ``header=0`` to be able to\n",
      "        replace existing names. The header can be a list of integers that\n",
      "        specify row locations for a multi-index on the columns\n",
      "        e.g. [0,1,3]. Intervening rows that are not specified will be\n",
      "        skipped (e.g. 2 in this example is skipped). Note that this\n",
      "        parameter ignores commented lines and empty lines if\n",
<<<<<<< Updated upstream
      "        ``skip_blank_lines=True``, so ``header=0`` denotes the first line of\n",
      "        data rather than the first line of the file.\n",
      "    names : array-like, optional\n",
      "        List of column names to use. If the file contains a header row,\n",
      "        then you should explicitly pass ``header=0`` to override the column names.\n",
      "        Duplicates in this list are not allowed.\n",
      "    index_col : int, str, sequence of int / str, or False, default ``None``\n",
      "      Column(s) to use as the row labels of the ``DataFrame``, either given as\n",
      "      string name or column index. If a sequence of int / str is given, a\n",
      "      MultiIndex is used.\n",
      "    \n",
      "      Note: ``index_col=False`` can be used to force pandas to *not* use the first\n",
      "      column as the index, e.g. when you have a malformed file with delimiters at\n",
      "      the end of each line.\n",
      "    usecols : list-like or callable, optional\n",
=======
      "        ``skip_blank_lines=True``, so header=0 denotes the first line of\n",
      "        data rather than the first line of the file.\n",
      "    names : array-like, default None\n",
      "        List of column names to use. If file contains no header row, then you\n",
      "        should explicitly pass header=None. Duplicates in this list will cause\n",
      "        a ``UserWarning`` to be issued.\n",
      "    index_col : int or sequence or False, default None\n",
      "        Column to use as the row labels of the DataFrame. If a sequence is given, a\n",
      "        MultiIndex is used. If you have a malformed file with delimiters at the end\n",
      "        of each line, you might consider index_col=False to force pandas to _not_\n",
      "        use the first column as the index (row names)\n",
      "    usecols : list-like or callable, default None\n",
>>>>>>> Stashed changes
      "        Return a subset of the columns. If list-like, all elements must either\n",
      "        be positional (i.e. integer indices into the document columns) or strings\n",
      "        that correspond to column names provided either by the user in `names` or\n",
      "        inferred from the document header row(s). For example, a valid list-like\n",
<<<<<<< Updated upstream
      "        `usecols` parameter would be ``[0, 1, 2]`` or ``['foo', 'bar', 'baz']``.\n",
      "        Element order is ignored, so ``usecols=[0, 1]`` is the same as ``[1, 0]``.\n",
=======
      "        `usecols` parameter would be [0, 1, 2] or ['foo', 'bar', 'baz']. Element\n",
      "        order is ignored, so ``usecols=[0, 1]`` is the same as ``[1, 0]``.\n",
>>>>>>> Stashed changes
      "        To instantiate a DataFrame from ``data`` with element order preserved use\n",
      "        ``pd.read_csv(data, usecols=['foo', 'bar'])[['foo', 'bar']]`` for columns\n",
      "        in ``['foo', 'bar']`` order or\n",
      "        ``pd.read_csv(data, usecols=['foo', 'bar'])[['bar', 'foo']]``\n",
      "        for ``['bar', 'foo']`` order.\n",
      "    \n",
      "        If callable, the callable function will be evaluated against the column\n",
      "        names, returning names where the callable function evaluates to True. An\n",
      "        example of a valid callable argument would be ``lambda x: x.upper() in\n",
      "        ['AAA', 'BBB', 'DDD']``. Using this parameter results in much faster\n",
      "        parsing time and lower memory usage.\n",
<<<<<<< Updated upstream
      "    squeeze : bool, default False\n",
      "        If the parsed data only contains one column then return a Series.\n",
      "    prefix : str, optional\n",
      "        Prefix to add to column numbers when no header, e.g. 'X' for X0, X1, ...\n",
      "    mangle_dupe_cols : bool, default True\n",
      "        Duplicate columns will be specified as 'X', 'X.1', ...'X.N', rather than\n",
      "        'X'...'X'. Passing in False will cause data to be overwritten if there\n",
      "        are duplicate names in the columns.\n",
      "    dtype : Type name or dict of column -> type, optional\n",
      "        Data type for data or columns. E.g. {'a': np.float64, 'b': np.int32,\n",
      "        'c': 'Int64'}\n",
=======
      "    squeeze : boolean, default False\n",
      "        If the parsed data only contains one column then return a Series\n",
      "    prefix : str, default None\n",
      "        Prefix to add to column numbers when no header, e.g. 'X' for X0, X1, ...\n",
      "    mangle_dupe_cols : boolean, default True\n",
      "        Duplicate columns will be specified as 'X', 'X.1', ...'X.N', rather than\n",
      "        'X'...'X'. Passing in False will cause data to be overwritten if there\n",
      "        are duplicate names in the columns.\n",
      "    dtype : Type name or dict of column -> type, default None\n",
      "        Data type for data or columns. E.g. {'a': np.float64, 'b': np.int32}\n",
>>>>>>> Stashed changes
      "        Use `str` or `object` together with suitable `na_values` settings\n",
      "        to preserve and not interpret dtype.\n",
      "        If converters are specified, they will be applied INSTEAD\n",
      "        of dtype conversion.\n",
      "    engine : {'c', 'python'}, optional\n",
      "        Parser engine to use. The C engine is faster while the python engine is\n",
      "        currently more feature-complete.\n",
<<<<<<< Updated upstream
      "    converters : dict, optional\n",
      "        Dict of functions for converting values in certain columns. Keys can either\n",
      "        be integers or column labels.\n",
      "    true_values : list, optional\n",
      "        Values to consider as True.\n",
      "    false_values : list, optional\n",
      "        Values to consider as False.\n",
      "    skipinitialspace : bool, default False\n",
      "        Skip spaces after delimiter.\n",
      "    skiprows : list-like, int or callable, optional\n",
=======
      "    converters : dict, default None\n",
      "        Dict of functions for converting values in certain columns. Keys can either\n",
      "        be integers or column labels\n",
      "    true_values : list, default None\n",
      "        Values to consider as True\n",
      "    false_values : list, default None\n",
      "        Values to consider as False\n",
      "    skipinitialspace : boolean, default False\n",
      "        Skip spaces after delimiter.\n",
      "    skiprows : list-like or integer or callable, default None\n",
>>>>>>> Stashed changes
      "        Line numbers to skip (0-indexed) or number of lines to skip (int)\n",
      "        at the start of the file.\n",
      "    \n",
      "        If callable, the callable function will be evaluated against the row\n",
      "        indices, returning True if the row should be skipped and False otherwise.\n",
      "        An example of a valid callable argument would be ``lambda x: x in [0, 2]``.\n",
      "    skipfooter : int, default 0\n",
<<<<<<< Updated upstream
      "        Number of lines at bottom of file to skip (Unsupported with engine='c').\n",
      "    nrows : int, optional\n",
      "        Number of rows of file to read. Useful for reading pieces of large files.\n",
      "    na_values : scalar, str, list-like, or dict, optional\n",
      "        Additional strings to recognize as NA/NaN. If dict passed, specific\n",
      "        per-column NA values.  By default the following values are interpreted as\n",
      "        NaN: '', '#N/A', '#N/A N/A', '#NA', '-1.#IND', '-1.#QNAN', '-NaN', '-nan',\n",
      "        '1.#IND', '1.#QNAN', '<NA>', 'N/A', 'NA', 'NULL', 'NaN', 'n/a',\n",
      "        'nan', 'null'.\n",
=======
      "        Number of lines at bottom of file to skip (Unsupported with engine='c')\n",
      "    nrows : int, default None\n",
      "        Number of rows of file to read. Useful for reading pieces of large files\n",
      "    na_values : scalar, str, list-like, or dict, default None\n",
      "        Additional strings to recognize as NA/NaN. If dict passed, specific\n",
      "        per-column NA values.  By default the following values are interpreted as\n",
      "        NaN: '', '#N/A', '#N/A N/A', '#NA', '-1.#IND', '-1.#QNAN', '-NaN', '-nan',\n",
      "        '1.#IND', '1.#QNAN', 'N/A', 'NA', 'NULL', 'NaN', 'n/a', 'nan',\n",
      "        'null'.\n",
>>>>>>> Stashed changes
      "    keep_default_na : bool, default True\n",
      "        Whether or not to include the default NaN values when parsing the data.\n",
      "        Depending on whether `na_values` is passed in, the behavior is as follows:\n",
      "    \n",
      "        * If `keep_default_na` is True, and `na_values` are specified, `na_values`\n",
      "          is appended to the default NaN values used for parsing.\n",
      "        * If `keep_default_na` is True, and `na_values` are not specified, only\n",
      "          the default NaN values are used for parsing.\n",
      "        * If `keep_default_na` is False, and `na_values` are specified, only\n",
      "          the NaN values specified `na_values` are used for parsing.\n",
      "        * If `keep_default_na` is False, and `na_values` are not specified, no\n",
      "          strings will be parsed as NaN.\n",
      "    \n",
      "        Note that if `na_filter` is passed in as False, the `keep_default_na` and\n",
      "        `na_values` parameters will be ignored.\n",
<<<<<<< Updated upstream
      "    na_filter : bool, default True\n",
      "        Detect missing value markers (empty strings and the value of na_values). In\n",
      "        data without any NAs, passing na_filter=False can improve the performance\n",
      "        of reading a large file.\n",
      "    verbose : bool, default False\n",
      "        Indicate number of NA values placed in non-numeric columns.\n",
      "    skip_blank_lines : bool, default True\n",
      "        If True, skip over blank lines rather than interpreting as NaN values.\n",
      "    parse_dates : bool or list of int or names or list of lists or dict, default False\n",
      "        The behavior is as follows:\n",
      "    \n",
      "        * boolean. If True -> try parsing the index.\n",
      "        * list of int or names. e.g. If [1, 2, 3] -> try parsing columns 1, 2, 3\n",
      "          each as a separate date column.\n",
      "        * list of lists. e.g.  If [[1, 3]] -> combine columns 1 and 3 and parse as\n",
      "          a single date column.\n",
      "        * dict, e.g. {'foo' : [1, 3]} -> parse columns 1, 3 as date and call\n",
      "          result 'foo'\n",
      "    \n",
      "        If a column or index cannot be represented as an array of datetimes,\n",
      "        say because of an unparseable value or a mixture of timezones, the column\n",
      "        or index will be returned unaltered as an object data type. For\n",
      "        non-standard datetime parsing, use ``pd.to_datetime`` after\n",
      "        ``pd.read_csv``. To parse an index or column with a mixture of timezones,\n",
      "        specify ``date_parser`` to be a partially-applied\n",
      "        :func:`pandas.to_datetime` with ``utc=True``. See\n",
      "        :ref:`io.csv.mixed_timezones` for more.\n",
      "    \n",
      "        Note: A fast-path exists for iso8601-formatted dates.\n",
      "    infer_datetime_format : bool, default False\n",
=======
      "    na_filter : boolean, default True\n",
      "        Detect missing value markers (empty strings and the value of na_values). In\n",
      "        data without any NAs, passing na_filter=False can improve the performance\n",
      "        of reading a large file\n",
      "    verbose : boolean, default False\n",
      "        Indicate number of NA values placed in non-numeric columns\n",
      "    skip_blank_lines : boolean, default True\n",
      "        If True, skip over blank lines rather than interpreting as NaN values\n",
      "    parse_dates : boolean or list of ints or names or list of lists or dict, default False\n",
      "    \n",
      "        * boolean. If True -> try parsing the index.\n",
      "        * list of ints or names. e.g. If [1, 2, 3] -> try parsing columns 1, 2, 3\n",
      "          each as a separate date column.\n",
      "        * list of lists. e.g.  If [[1, 3]] -> combine columns 1 and 3 and parse as\n",
      "          a single date column.\n",
      "        * dict, e.g. {'foo' : [1, 3]} -> parse columns 1, 3 as date and call result\n",
      "          'foo'\n",
      "    \n",
      "        If a column or index contains an unparseable date, the entire column or\n",
      "        index will be returned unaltered as an object data type. For non-standard\n",
      "        datetime parsing, use ``pd.to_datetime`` after ``pd.read_csv``\n",
      "    \n",
      "        Note: A fast-path exists for iso8601-formatted dates.\n",
      "    infer_datetime_format : boolean, default False\n",
>>>>>>> Stashed changes
      "        If True and `parse_dates` is enabled, pandas will attempt to infer the\n",
      "        format of the datetime strings in the columns, and if it can be inferred,\n",
      "        switch to a faster method of parsing them. In some cases this can increase\n",
      "        the parsing speed by 5-10x.\n",
<<<<<<< Updated upstream
      "    keep_date_col : bool, default False\n",
      "        If True and `parse_dates` specifies combining multiple columns then\n",
      "        keep the original columns.\n",
      "    date_parser : function, optional\n",
=======
      "    keep_date_col : boolean, default False\n",
      "        If True and `parse_dates` specifies combining multiple columns then\n",
      "        keep the original columns.\n",
      "    date_parser : function, default None\n",
>>>>>>> Stashed changes
      "        Function to use for converting a sequence of string columns to an array of\n",
      "        datetime instances. The default uses ``dateutil.parser.parser`` to do the\n",
      "        conversion. Pandas will try to call `date_parser` in three different ways,\n",
      "        advancing to the next if an exception occurs: 1) Pass one or more arrays\n",
      "        (as defined by `parse_dates`) as arguments; 2) concatenate (row-wise) the\n",
      "        string values from the columns defined by `parse_dates` into a single array\n",
      "        and pass that; and 3) call `date_parser` once for each row using one or\n",
      "        more strings (corresponding to the columns defined by `parse_dates`) as\n",
      "        arguments.\n",
<<<<<<< Updated upstream
      "    dayfirst : bool, default False\n",
      "        DD/MM format dates, international and European format.\n",
      "    cache_dates : bool, default True\n",
      "        If True, use a cache of unique, converted dates to apply the datetime\n",
      "        conversion. May produce significant speed-up when parsing duplicate\n",
      "        date strings, especially ones with timezone offsets.\n",
      "    \n",
      "        .. versionadded:: 0.25.0\n",
      "    iterator : bool, default False\n",
      "        Return TextFileReader object for iteration or getting chunks with\n",
      "        ``get_chunk()``.\n",
      "    chunksize : int, optional\n",
      "        Return TextFileReader object for iteration.\n",
      "        See the `IO Tools docs\n",
      "        <https://pandas.pydata.org/pandas-docs/stable/io.html#io-chunking>`_\n",
=======
      "    dayfirst : boolean, default False\n",
      "        DD/MM format dates, international and European format\n",
      "    iterator : boolean, default False\n",
      "        Return TextFileReader object for iteration or getting chunks with\n",
      "        ``get_chunk()``.\n",
      "    chunksize : int, default None\n",
      "        Return TextFileReader object for iteration.\n",
      "        See the `IO Tools docs\n",
      "        <http://pandas.pydata.org/pandas-docs/stable/io.html#io-chunking>`_\n",
>>>>>>> Stashed changes
      "        for more information on ``iterator`` and ``chunksize``.\n",
      "    compression : {'infer', 'gzip', 'bz2', 'zip', 'xz', None}, default 'infer'\n",
      "        For on-the-fly decompression of on-disk data. If 'infer' and\n",
      "        `filepath_or_buffer` is path-like, then detect compression from the\n",
      "        following extensions: '.gz', '.bz2', '.zip', or '.xz' (otherwise no\n",
      "        decompression). If using 'zip', the ZIP file must contain only one data\n",
      "        file to be read in. Set to None for no decompression.\n",
<<<<<<< Updated upstream
      "    thousands : str, optional\n",
      "        Thousands separator.\n",
      "    decimal : str, default '.'\n",
      "        Character to recognize as decimal point (e.g. use ',' for European data).\n",
      "    lineterminator : str (length 1), optional\n",
=======
      "    \n",
      "        .. versionadded:: 0.18.1 support for 'zip' and 'xz' compression.\n",
      "    \n",
      "    thousands : str, default None\n",
      "        Thousands separator\n",
      "    decimal : str, default '.'\n",
      "        Character to recognize as decimal point (e.g. use ',' for European data).\n",
      "    float_precision : string, default None\n",
      "        Specifies which converter the C engine should use for floating-point\n",
      "        values. The options are `None` for the ordinary converter,\n",
      "        `high` for the high-precision converter, and `round_trip` for the\n",
      "        round-trip converter.\n",
      "    lineterminator : str (length 1), default None\n",
>>>>>>> Stashed changes
      "        Character to break file into lines. Only valid with C parser.\n",
      "    quotechar : str (length 1), optional\n",
      "        The character used to denote the start and end of a quoted item. Quoted\n",
      "        items can include the delimiter and it will be ignored.\n",
      "    quoting : int or csv.QUOTE_* instance, default 0\n",
      "        Control field quoting behavior per ``csv.QUOTE_*`` constants. Use one of\n",
      "        QUOTE_MINIMAL (0), QUOTE_ALL (1), QUOTE_NONNUMERIC (2) or QUOTE_NONE (3).\n",
<<<<<<< Updated upstream
      "    doublequote : bool, default ``True``\n",
      "       When quotechar is specified and quoting is not ``QUOTE_NONE``, indicate\n",
      "       whether or not to interpret two consecutive quotechar elements INSIDE a\n",
      "       field as a single ``quotechar`` element.\n",
      "    escapechar : str (length 1), optional\n",
      "        One-character string used to escape other characters.\n",
      "    comment : str, optional\n",
=======
      "    doublequote : boolean, default ``True``\n",
      "       When quotechar is specified and quoting is not ``QUOTE_NONE``, indicate\n",
      "       whether or not to interpret two consecutive quotechar elements INSIDE a\n",
      "       field as a single ``quotechar`` element.\n",
      "    escapechar : str (length 1), default None\n",
      "        One-character string used to escape delimiter when quoting is QUOTE_NONE.\n",
      "    comment : str, default None\n",
>>>>>>> Stashed changes
      "        Indicates remainder of line should not be parsed. If found at the beginning\n",
      "        of a line, the line will be ignored altogether. This parameter must be a\n",
      "        single character. Like empty lines (as long as ``skip_blank_lines=True``),\n",
      "        fully commented lines are ignored by the parameter `header` but not by\n",
      "        `skiprows`. For example, if ``comment='#'``, parsing\n",
      "        ``#empty\\na,b,c\\n1,2,3`` with ``header=0`` will result in 'a,b,c' being\n",
      "        treated as the header.\n",
<<<<<<< Updated upstream
      "    encoding : str, optional\n",
      "        Encoding to use for UTF when reading/writing (ex. 'utf-8'). `List of Python\n",
      "        standard encodings\n",
      "        <https://docs.python.org/3/library/codecs.html#standard-encodings>`_ .\n",
      "    dialect : str or csv.Dialect, optional\n",
=======
      "    encoding : str, default None\n",
      "        Encoding to use for UTF when reading/writing (ex. 'utf-8'). `List of Python\n",
      "        standard encodings\n",
      "        <https://docs.python.org/3/library/codecs.html#standard-encodings>`_\n",
      "    dialect : str or csv.Dialect instance, default None\n",
>>>>>>> Stashed changes
      "        If provided, this parameter will override values (default or not) for the\n",
      "        following parameters: `delimiter`, `doublequote`, `escapechar`,\n",
      "        `skipinitialspace`, `quotechar`, and `quoting`. If it is necessary to\n",
      "        override values, a ParserWarning will be issued. See csv.Dialect\n",
      "        documentation for more details.\n",
<<<<<<< Updated upstream
      "    error_bad_lines : bool, default True\n",
=======
      "    tupleize_cols : boolean, default False\n",
      "        .. deprecated:: 0.21.0\n",
      "           This argument will be removed and will always convert to MultiIndex\n",
      "    \n",
      "        Leave a list of tuples on columns as is (default is to convert to\n",
      "        a MultiIndex on the columns)\n",
      "    error_bad_lines : boolean, default True\n",
>>>>>>> Stashed changes
      "        Lines with too many fields (e.g. a csv line with too many commas) will by\n",
      "        default cause an exception to be raised, and no DataFrame will be returned.\n",
      "        If False, then these \"bad lines\" will dropped from the DataFrame that is\n",
      "        returned.\n",
<<<<<<< Updated upstream
      "    warn_bad_lines : bool, default True\n",
      "        If error_bad_lines is False, and warn_bad_lines is True, a warning for each\n",
      "        \"bad line\" will be output.\n",
      "    delim_whitespace : bool, default False\n",
      "        Specifies whether or not whitespace (e.g. ``' '`` or ``'    '``) will be\n",
      "        used as the sep. Equivalent to setting ``sep='\\s+'``. If this option\n",
      "        is set to True, nothing should be passed in for the ``delimiter``\n",
      "        parameter.\n",
      "    low_memory : bool, default True\n",
=======
      "    warn_bad_lines : boolean, default True\n",
      "        If error_bad_lines is False, and warn_bad_lines is True, a warning for each\n",
      "        \"bad line\" will be output.\n",
      "    low_memory : boolean, default True\n",
>>>>>>> Stashed changes
      "        Internally process the file in chunks, resulting in lower memory use\n",
      "        while parsing, but possibly mixed type inference.  To ensure no mixed\n",
      "        types either set False, or specify the type with the `dtype` parameter.\n",
      "        Note that the entire file is read into a single DataFrame regardless,\n",
      "        use the `chunksize` or `iterator` parameter to return the data in chunks.\n",
<<<<<<< Updated upstream
      "        (Only valid with C parser).\n",
      "    memory_map : bool, default False\n",
      "        If a filepath is provided for `filepath_or_buffer`, map the file object\n",
      "        directly onto memory and access the data directly from there. Using this\n",
      "        option can improve performance because there is no longer any I/O overhead.\n",
      "    float_precision : str, optional\n",
      "        Specifies which converter the C engine should use for floating-point\n",
      "        values. The options are `None` for the ordinary converter,\n",
      "        `high` for the high-precision converter, and `round_trip` for the\n",
      "        round-trip converter.\n",
      "    \n",
      "    Returns\n",
      "    -------\n",
      "    DataFrame or TextParser\n",
      "        A comma-separated values (csv) file is returned as two-dimensional\n",
      "        data structure with labeled axes.\n",
      "    \n",
      "    See Also\n",
      "    --------\n",
      "    to_csv : Write DataFrame to a comma-separated values (csv) file.\n",
      "    read_csv : Read a comma-separated values (csv) file into DataFrame.\n",
      "    read_fwf : Read a table of fixed-width formatted lines into DataFrame.\n",
      "    \n",
      "    Examples\n",
      "    --------\n",
      "    >>> pd.read_csv('data.csv')  # doctest: +SKIP\n",
=======
      "        (Only valid with C parser)\n",
      "    memory_map : boolean, default False\n",
      "        If a filepath is provided for `filepath_or_buffer`, map the file object\n",
      "        directly onto memory and access the data directly from there. Using this\n",
      "        option can improve performance because there is no longer any I/O overhead.\n",
      "    \n",
      "    Returns\n",
      "    -------\n",
      "    result : DataFrame or TextParser\n",
>>>>>>> Stashed changes
      "\n"
     ]
    }
   ],
   "source": [
    "# Función read_csv\n",
    "help(pd.read_csv)"
   ]
  },
  {
   "cell_type": "code",
<<<<<<< Updated upstream
   "execution_count": 3,
=======
   "execution_count": 9,
>>>>>>> Stashed changes
   "metadata": {},
   "outputs": [],
   "source": [
    "# Cargamos hoja de calculo en un dataframe\n",
<<<<<<< Updated upstream
    "AAPL = pd.read_csv('precios/AAPL.csv')"
=======
    "AAPL = pd.read_csv('data/AAPL.csv')"
>>>>>>> Stashed changes
   ]
  },
  {
   "cell_type": "code",
<<<<<<< Updated upstream
   "execution_count": 4,
=======
   "execution_count": 10,
>>>>>>> Stashed changes
   "metadata": {},
   "outputs": [
    {
     "data": {
      "text/html": [
       "<div>\n",
       "<style scoped>\n",
       "    .dataframe tbody tr th:only-of-type {\n",
       "        vertical-align: middle;\n",
       "    }\n",
       "\n",
       "    .dataframe tbody tr th {\n",
       "        vertical-align: top;\n",
       "    }\n",
       "\n",
       "    .dataframe thead th {\n",
       "        text-align: right;\n",
       "    }\n",
       "</style>\n",
       "<table border=\"1\" class=\"dataframe\">\n",
       "  <thead>\n",
       "    <tr style=\"text-align: right;\">\n",
       "      <th></th>\n",
       "      <th>Date</th>\n",
       "      <th>Open</th>\n",
       "      <th>High</th>\n",
       "      <th>Low</th>\n",
       "      <th>Close</th>\n",
       "      <th>Adj Close</th>\n",
       "      <th>Volume</th>\n",
       "    </tr>\n",
       "  </thead>\n",
       "  <tbody>\n",
       "    <tr>\n",
       "      <th>0</th>\n",
       "      <td>2015-01-02</td>\n",
       "      <td>27.847500</td>\n",
       "      <td>27.860001</td>\n",
       "      <td>26.837500</td>\n",
       "      <td>27.332500</td>\n",
       "      <td>24.941502</td>\n",
       "      <td>212818400</td>\n",
       "    </tr>\n",
       "    <tr>\n",
       "      <th>1</th>\n",
       "      <td>2015-01-05</td>\n",
       "      <td>27.072500</td>\n",
       "      <td>27.162500</td>\n",
       "      <td>26.352501</td>\n",
       "      <td>26.562500</td>\n",
       "      <td>24.238857</td>\n",
       "      <td>257142000</td>\n",
       "    </tr>\n",
       "    <tr>\n",
       "      <th>2</th>\n",
       "      <td>2015-01-06</td>\n",
       "      <td>26.635000</td>\n",
       "      <td>26.857500</td>\n",
       "      <td>26.157499</td>\n",
       "      <td>26.565001</td>\n",
       "      <td>24.241146</td>\n",
       "      <td>263188400</td>\n",
       "    </tr>\n",
       "    <tr>\n",
       "      <th>3</th>\n",
       "      <td>2015-01-07</td>\n",
       "      <td>26.799999</td>\n",
       "      <td>27.049999</td>\n",
       "      <td>26.674999</td>\n",
       "      <td>26.937500</td>\n",
       "      <td>24.581060</td>\n",
       "      <td>160423600</td>\n",
       "    </tr>\n",
       "    <tr>\n",
       "      <th>4</th>\n",
       "      <td>2015-01-08</td>\n",
       "      <td>27.307501</td>\n",
       "      <td>28.037500</td>\n",
       "      <td>27.174999</td>\n",
       "      <td>27.972500</td>\n",
       "      <td>25.525522</td>\n",
       "      <td>237458000</td>\n",
       "    </tr>\n",
       "  </tbody>\n",
       "</table>\n",
       "</div>"
      ],
      "text/plain": [
       "         Date       Open       High        Low      Close  Adj Close  \\\n",
       "0  2015-01-02  27.847500  27.860001  26.837500  27.332500  24.941502   \n",
       "1  2015-01-05  27.072500  27.162500  26.352501  26.562500  24.238857   \n",
       "2  2015-01-06  26.635000  26.857500  26.157499  26.565001  24.241146   \n",
       "3  2015-01-07  26.799999  27.049999  26.674999  26.937500  24.581060   \n",
       "4  2015-01-08  27.307501  28.037500  27.174999  27.972500  25.525522   \n",
       "\n",
       "      Volume  \n",
       "0  212818400  \n",
       "1  257142000  \n",
       "2  263188400  \n",
       "3  160423600  \n",
       "4  237458000  "
      ]
     },
<<<<<<< Updated upstream
     "execution_count": 4,
=======
     "execution_count": 10,
>>>>>>> Stashed changes
     "metadata": {},
     "output_type": "execute_result"
    }
   ],
   "source": [
    "AAPL.head()"
   ]
  },
  {
   "cell_type": "markdown",
   "metadata": {},
   "source": [
    "#### Anotación #1\n",
    "- Quisieramos indizar por fecha."
   ]
  },
  {
   "cell_type": "code",
<<<<<<< Updated upstream
   "execution_count": 5,
=======
   "execution_count": 19,
>>>>>>> Stashed changes
   "metadata": {},
   "outputs": [],
   "source": [
    "# Cargamos hoja de calculo en un dataframe\n",
<<<<<<< Updated upstream
    "AAPL = pd.read_csv('precios/AAPL.csv', index_col=['Date'])"
=======
    "AAPL = pd.read_csv('data/AAPL.csv', index_col=['Date'])"
>>>>>>> Stashed changes
   ]
  },
  {
   "cell_type": "code",
<<<<<<< Updated upstream
   "execution_count": 6,
=======
   "execution_count": 14,
>>>>>>> Stashed changes
   "metadata": {},
   "outputs": [
    {
     "data": {
      "text/html": [
       "<div>\n",
       "<style scoped>\n",
       "    .dataframe tbody tr th:only-of-type {\n",
       "        vertical-align: middle;\n",
       "    }\n",
       "\n",
       "    .dataframe tbody tr th {\n",
       "        vertical-align: top;\n",
       "    }\n",
       "\n",
       "    .dataframe thead th {\n",
       "        text-align: right;\n",
       "    }\n",
       "</style>\n",
       "<table border=\"1\" class=\"dataframe\">\n",
       "  <thead>\n",
       "    <tr style=\"text-align: right;\">\n",
       "      <th></th>\n",
       "      <th>Open</th>\n",
       "      <th>High</th>\n",
       "      <th>Low</th>\n",
       "      <th>Close</th>\n",
       "      <th>Adj Close</th>\n",
       "      <th>Volume</th>\n",
       "    </tr>\n",
       "    <tr>\n",
       "      <th>Date</th>\n",
       "      <th></th>\n",
       "      <th></th>\n",
       "      <th></th>\n",
       "      <th></th>\n",
       "      <th></th>\n",
       "      <th></th>\n",
       "    </tr>\n",
       "  </thead>\n",
       "  <tbody>\n",
       "    <tr>\n",
       "      <th>2015-01-02</th>\n",
       "      <td>27.847500</td>\n",
       "      <td>27.860001</td>\n",
       "      <td>26.837500</td>\n",
       "      <td>27.332500</td>\n",
       "      <td>24.941502</td>\n",
       "      <td>212818400</td>\n",
       "    </tr>\n",
       "    <tr>\n",
       "      <th>2015-01-05</th>\n",
       "      <td>27.072500</td>\n",
       "      <td>27.162500</td>\n",
       "      <td>26.352501</td>\n",
       "      <td>26.562500</td>\n",
       "      <td>24.238857</td>\n",
       "      <td>257142000</td>\n",
       "    </tr>\n",
       "    <tr>\n",
       "      <th>2015-01-06</th>\n",
       "      <td>26.635000</td>\n",
       "      <td>26.857500</td>\n",
       "      <td>26.157499</td>\n",
       "      <td>26.565001</td>\n",
       "      <td>24.241146</td>\n",
       "      <td>263188400</td>\n",
       "    </tr>\n",
       "    <tr>\n",
       "      <th>2015-01-07</th>\n",
       "      <td>26.799999</td>\n",
       "      <td>27.049999</td>\n",
       "      <td>26.674999</td>\n",
       "      <td>26.937500</td>\n",
       "      <td>24.581060</td>\n",
       "      <td>160423600</td>\n",
       "    </tr>\n",
       "    <tr>\n",
       "      <th>2015-01-08</th>\n",
       "      <td>27.307501</td>\n",
       "      <td>28.037500</td>\n",
       "      <td>27.174999</td>\n",
       "      <td>27.972500</td>\n",
       "      <td>25.525522</td>\n",
       "      <td>237458000</td>\n",
       "    </tr>\n",
       "  </tbody>\n",
       "</table>\n",
       "</div>"
      ],
      "text/plain": [
       "                 Open       High        Low      Close  Adj Close     Volume\n",
       "Date                                                                        \n",
       "2015-01-02  27.847500  27.860001  26.837500  27.332500  24.941502  212818400\n",
       "2015-01-05  27.072500  27.162500  26.352501  26.562500  24.238857  257142000\n",
       "2015-01-06  26.635000  26.857500  26.157499  26.565001  24.241146  263188400\n",
       "2015-01-07  26.799999  27.049999  26.674999  26.937500  24.581060  160423600\n",
       "2015-01-08  27.307501  28.037500  27.174999  27.972500  25.525522  237458000"
      ]
     },
<<<<<<< Updated upstream
     "execution_count": 6,
=======
     "execution_count": 14,
>>>>>>> Stashed changes
     "metadata": {},
     "output_type": "execute_result"
    }
   ],
   "source": [
    "AAPL.head()"
   ]
  },
  {
   "cell_type": "code",
<<<<<<< Updated upstream
   "execution_count": 7,
=======
   "execution_count": 21,
>>>>>>> Stashed changes
   "metadata": {},
   "outputs": [
    {
     "data": {
      "text/plain": [
<<<<<<< Updated upstream
       "<matplotlib.axes._subplots.AxesSubplot at 0x7f5bb6624690>"
      ]
     },
     "execution_count": 7,
=======
       "<matplotlib.axes._subplots.AxesSubplot at 0x168b8bf2f60>"
      ]
     },
     "execution_count": 21,
>>>>>>> Stashed changes
     "metadata": {},
     "output_type": "execute_result"
    },
    {
     "data": {
<<<<<<< Updated upstream
      "image/png": "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\n",
=======
      "image/png": "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\n",
>>>>>>> Stashed changes
      "text/plain": [
       "<Figure size 432x288 with 1 Axes>"
      ]
     },
     "metadata": {
      "needs_background": "light"
     },
     "output_type": "display_data"
    }
   ],
   "source": [
    "# Graficar precios de cierre y precios de cierre ajustados\n",
    "AAPL[['Close', 'Adj Close']].plot()"
   ]
  },
  {
   "cell_type": "markdown",
   "metadata": {},
   "source": [
    "#### Anotación #2\n",
    "- Para nuestra aplicación solo nos interesan los precios de cierre de las acciones (columna Adj Close)."
   ]
  },
  {
   "cell_type": "code",
<<<<<<< Updated upstream
   "execution_count": 8,
=======
   "execution_count": 15,
>>>>>>> Stashed changes
   "metadata": {},
   "outputs": [],
   "source": [
    "# Cargamos hoja de calculo en un dataframe\n",
<<<<<<< Updated upstream
    "AAPL = pd.read_csv('precios/AAPL.csv',\n",
    "                   index_col=['Date'],\n",
    "                   usecols=['Date', 'Adj Close'])"
=======
    "AAPL = pd.read_csv('data/AAPL.csv', index_col=['Date'], usecols=['Date', 'Adj Close'])"
>>>>>>> Stashed changes
   ]
  },
  {
   "cell_type": "code",
<<<<<<< Updated upstream
   "execution_count": 9,
=======
   "execution_count": 16,
>>>>>>> Stashed changes
   "metadata": {},
   "outputs": [
    {
     "data": {
      "text/html": [
       "<div>\n",
       "<style scoped>\n",
       "    .dataframe tbody tr th:only-of-type {\n",
       "        vertical-align: middle;\n",
       "    }\n",
       "\n",
       "    .dataframe tbody tr th {\n",
       "        vertical-align: top;\n",
       "    }\n",
       "\n",
       "    .dataframe thead th {\n",
       "        text-align: right;\n",
       "    }\n",
       "</style>\n",
       "<table border=\"1\" class=\"dataframe\">\n",
       "  <thead>\n",
       "    <tr style=\"text-align: right;\">\n",
       "      <th></th>\n",
       "      <th>Adj Close</th>\n",
       "    </tr>\n",
       "    <tr>\n",
       "      <th>Date</th>\n",
       "      <th></th>\n",
       "    </tr>\n",
       "  </thead>\n",
       "  <tbody>\n",
       "    <tr>\n",
       "      <th>2015-01-02</th>\n",
       "      <td>24.941502</td>\n",
       "    </tr>\n",
       "    <tr>\n",
       "      <th>2015-01-05</th>\n",
       "      <td>24.238857</td>\n",
       "    </tr>\n",
       "    <tr>\n",
       "      <th>2015-01-06</th>\n",
       "      <td>24.241146</td>\n",
       "    </tr>\n",
       "    <tr>\n",
       "      <th>2015-01-07</th>\n",
       "      <td>24.581060</td>\n",
       "    </tr>\n",
       "    <tr>\n",
       "      <th>2015-01-08</th>\n",
       "      <td>25.525522</td>\n",
       "    </tr>\n",
       "  </tbody>\n",
       "</table>\n",
       "</div>"
      ],
      "text/plain": [
       "            Adj Close\n",
       "Date                 \n",
       "2015-01-02  24.941502\n",
       "2015-01-05  24.238857\n",
       "2015-01-06  24.241146\n",
       "2015-01-07  24.581060\n",
       "2015-01-08  25.525522"
      ]
     },
<<<<<<< Updated upstream
     "execution_count": 9,
=======
     "execution_count": 16,
>>>>>>> Stashed changes
     "metadata": {},
     "output_type": "execute_result"
    }
   ],
   "source": [
    "AAPL.head()"
   ]
  },
  {
   "cell_type": "markdown",
   "metadata": {},
   "source": [
    "**Actividad.** Importen todos los archivos .csv como acabamos de hacerlo con el de apple. Además, crear un solo DataFrame que cuyos encabezados por columna sean los nombres respectivos (AAPL.MX, AMZN.MX,GFNORTEO.MX,GFINBURO.MX) y contengan los datos de precio de cierre."
   ]
  },
  {
   "cell_type": "code",
   "execution_count": null,
   "metadata": {},
   "outputs": [],
   "source": []
  },
  {
   "cell_type": "code",
   "execution_count": null,
   "metadata": {},
   "outputs": [],
   "source": []
  },
  {
   "cell_type": "code",
   "execution_count": null,
   "metadata": {},
   "outputs": [],
   "source": []
  },
  {
   "cell_type": "code",
   "execution_count": null,
   "metadata": {},
   "outputs": [],
   "source": []
  },
  {
   "cell_type": "markdown",
   "metadata": {},
   "source": [
    "## 2. Descargar los datos remotamente\n",
    "Para esto utilizaremos el paquete *pandas_datareader*.\n",
    "\n",
    "**Nota**: Usualmente, las distribuciones de Python no cuentan, por defecto, con el paquete *pandas_datareader*. Por lo que será necesario instalarlo aparte:\n",
    "- buscar en inicio \"Anaconda prompt\" y ejecutarlo como administrador;\n",
    "- el siguiente comando instala el paquete en Anaconda: *conda install pandas-datareader*;\n",
    "- una vez finalice la instalación correr el comando: *conda list*, y buscar que sí se haya instalado pandas-datareader"
   ]
  },
  {
   "cell_type": "code",
<<<<<<< Updated upstream
   "execution_count": 10,
=======
   "execution_count": 22,
>>>>>>> Stashed changes
   "metadata": {
    "scrolled": true
   },
   "outputs": [],
   "source": [
    "# Importar el modulo data del paquete pandas_datareader. La comunidad lo importa con el nombre de web\n",
    "import pandas_datareader.data as web"
   ]
  },
  {
   "cell_type": "markdown",
   "metadata": {},
   "source": [
    "El módulo data del paquete pandas_datareader contiene la funcion `DataReader`:"
   ]
  },
  {
   "cell_type": "code",
<<<<<<< Updated upstream
   "execution_count": 11,
=======
   "execution_count": 23,
>>>>>>> Stashed changes
   "metadata": {},
   "outputs": [
    {
     "name": "stdout",
     "output_type": "stream",
     "text": [
      "Help on function DataReader in module pandas_datareader.data:\n",
      "\n",
      "DataReader(name, data_source=None, start=None, end=None, retry_count=3, pause=0.1, session=None, api_key=None)\n",
      "    Imports data from a number of online sources.\n",
      "    \n",
      "    Currently supports Google Finance, St. Louis FED (FRED),\n",
      "    and Kenneth French's data library, among others.\n",
      "    \n",
      "    Parameters\n",
      "    ----------\n",
      "    name : str or list of strs\n",
      "        the name of the dataset. Some data sources (IEX, fred) will\n",
      "        accept a list of names.\n",
      "    data_source: {str, None}\n",
      "        the data source (\"iex\", \"fred\", \"ff\")\n",
      "    start : string, int, date, datetime, Timestamp\n",
      "        left boundary for range (defaults to 1/1/2010)\n",
      "    end : string, int, date, datetime, Timestamp\n",
      "        right boundary for range (defaults to today)\n",
      "    retry_count : {int, 3}\n",
      "        Number of times to retry query request.\n",
      "    pause : {numeric, 0.001}\n",
      "        Time, in seconds, to pause between consecutive queries of chunks. If\n",
      "        single value given for symbol, represents the pause between retries.\n",
      "    session : Session, default None\n",
      "        requests.sessions.Session instance to be used\n",
      "    api_key : (str, None)\n",
      "        Optional parameter to specify an API key for certain data sources.\n",
      "    \n",
      "    Examples\n",
      "    ----------\n",
      "    # Data from Google Finance\n",
      "    aapl = DataReader(\"AAPL\", \"iex\")\n",
      "    \n",
      "    # Price and volume data from IEX\n",
      "    tops = DataReader([\"GS\", \"AAPL\"], \"iex-tops\")\n",
      "    # Top of book executions from IEX\n",
      "    gs = DataReader(\"GS\", \"iex-last\")\n",
      "    # Real-time depth of book data from IEX\n",
      "    gs = DataReader(\"GS\", \"iex-book\")\n",
      "    \n",
      "    # Data from FRED\n",
      "    vix = DataReader(\"VIXCLS\", \"fred\")\n",
      "    \n",
      "    # Data from Fama/French\n",
      "    ff = DataReader(\"F-F_Research_Data_Factors\", \"famafrench\")\n",
      "    ff = DataReader(\"F-F_Research_Data_Factors_weekly\", \"famafrench\")\n",
      "    ff = DataReader(\"6_Portfolios_2x3\", \"famafrench\")\n",
      "    ff = DataReader(\"F-F_ST_Reversal_Factor\", \"famafrench\")\n",
      "\n"
     ]
    }
   ],
   "source": [
    "# Función DataReader\n",
    "help(web.DataReader)"
   ]
  },
  {
   "cell_type": "markdown",
   "metadata": {},
   "source": [
    "- A esta función le podemos especificar la fuente de los datos para que se use la api específica para la descarga de datos de cada fuente.\n",
    "- Fuentes:\n",
    " - Google Finance: su api ya no sirve.\n",
    " - Quandl: necesita registrarse para obtener un api key.\n",
    " - IEX: los datos tienen antiguedad máxima de 5 años y de equities estadounidenses.\n",
    " - Yahoo! Finance: su api ha tenido cambios significativos y ya no es posible usarla desde DataReader. Sin embargo permite obtener datos de distintas bolsas (incluida la mexicana), por eso le haremos la luchita."
   ]
  },
  {
   "cell_type": "code",
<<<<<<< Updated upstream
   "execution_count": 15,
=======
   "execution_count": 29,
>>>>>>> Stashed changes
   "metadata": {},
   "outputs": [
    {
     "data": {
      "text/html": [
       "<div>\n",
       "<style scoped>\n",
       "    .dataframe tbody tr th:only-of-type {\n",
       "        vertical-align: middle;\n",
       "    }\n",
       "\n",
       "    .dataframe tbody tr th {\n",
       "        vertical-align: top;\n",
       "    }\n",
       "\n",
       "    .dataframe thead tr th {\n",
       "        text-align: left;\n",
       "    }\n",
       "\n",
       "    .dataframe thead tr:last-of-type th {\n",
       "        text-align: right;\n",
       "    }\n",
       "</style>\n",
       "<table border=\"1\" class=\"dataframe\">\n",
       "  <thead>\n",
       "    <tr>\n",
       "      <th>Attributes</th>\n",
<<<<<<< Updated upstream
       "      <th colspan=\"4\" halign=\"left\">Adj Close</th>\n",
       "      <th colspan=\"4\" halign=\"left\">Close</th>\n",
       "      <th colspan=\"2\" halign=\"left\">High</th>\n",
       "      <th>...</th>\n",
       "      <th colspan=\"2\" halign=\"left\">Low</th>\n",
       "      <th colspan=\"4\" halign=\"left\">Open</th>\n",
       "      <th colspan=\"4\" halign=\"left\">Volume</th>\n",
=======
       "      <th colspan=\"2\" halign=\"left\">Adj Close</th>\n",
       "      <th colspan=\"2\" halign=\"left\">Close</th>\n",
       "      <th colspan=\"2\" halign=\"left\">High</th>\n",
       "      <th colspan=\"2\" halign=\"left\">Low</th>\n",
       "      <th colspan=\"2\" halign=\"left\">Open</th>\n",
       "      <th colspan=\"2\" halign=\"left\">Volume</th>\n",
>>>>>>> Stashed changes
       "    </tr>\n",
       "    <tr>\n",
       "      <th>Symbols</th>\n",
       "      <th>AAPL</th>\n",
       "      <th>NVDA</th>\n",
<<<<<<< Updated upstream
       "      <th>IBM</th>\n",
       "      <th>WMT</th>\n",
       "      <th>AAPL</th>\n",
       "      <th>NVDA</th>\n",
       "      <th>IBM</th>\n",
       "      <th>WMT</th>\n",
       "      <th>AAPL</th>\n",
       "      <th>NVDA</th>\n",
       "      <th>...</th>\n",
       "      <th>IBM</th>\n",
       "      <th>WMT</th>\n",
       "      <th>AAPL</th>\n",
       "      <th>NVDA</th>\n",
       "      <th>IBM</th>\n",
       "      <th>WMT</th>\n",
       "      <th>AAPL</th>\n",
       "      <th>NVDA</th>\n",
       "      <th>IBM</th>\n",
       "      <th>WMT</th>\n",
=======
       "      <th>AAPL</th>\n",
       "      <th>NVDA</th>\n",
       "      <th>AAPL</th>\n",
       "      <th>NVDA</th>\n",
       "      <th>AAPL</th>\n",
       "      <th>NVDA</th>\n",
       "      <th>AAPL</th>\n",
       "      <th>NVDA</th>\n",
       "      <th>AAPL</th>\n",
       "      <th>NVDA</th>\n",
>>>>>>> Stashed changes
       "    </tr>\n",
       "    <tr>\n",
       "      <th>Date</th>\n",
       "      <th></th>\n",
       "      <th></th>\n",
       "      <th></th>\n",
       "      <th></th>\n",
       "      <th></th>\n",
       "      <th></th>\n",
       "      <th></th>\n",
       "      <th></th>\n",
       "      <th></th>\n",
       "      <th></th>\n",
       "      <th></th>\n",
       "      <th></th>\n",
<<<<<<< Updated upstream
       "      <th></th>\n",
       "      <th></th>\n",
       "      <th></th>\n",
       "      <th></th>\n",
       "      <th></th>\n",
       "      <th></th>\n",
       "      <th></th>\n",
       "      <th></th>\n",
       "      <th></th>\n",
=======
>>>>>>> Stashed changes
       "    </tr>\n",
       "  </thead>\n",
       "  <tbody>\n",
       "    <tr>\n",
       "      <th>2015-01-02</th>\n",
       "      <td>24.941502</td>\n",
       "      <td>19.386309</td>\n",
<<<<<<< Updated upstream
       "      <td>125.882919</td>\n",
       "      <td>74.438179</td>\n",
       "      <td>27.332500</td>\n",
       "      <td>20.129999</td>\n",
       "      <td>162.059998</td>\n",
       "      <td>85.900002</td>\n",
       "      <td>27.860001</td>\n",
       "      <td>20.280001</td>\n",
       "      <td>...</td>\n",
       "      <td>161.000000</td>\n",
       "      <td>85.550003</td>\n",
       "      <td>27.847500</td>\n",
       "      <td>20.129999</td>\n",
       "      <td>161.309998</td>\n",
       "      <td>86.269997</td>\n",
       "      <td>212818400.0</td>\n",
       "      <td>2842000.0</td>\n",
       "      <td>5525500.0</td>\n",
       "      <td>4501800.0</td>\n",
=======
       "      <td>27.332500</td>\n",
       "      <td>20.129999</td>\n",
       "      <td>27.860001</td>\n",
       "      <td>20.280001</td>\n",
       "      <td>26.837500</td>\n",
       "      <td>19.809999</td>\n",
       "      <td>27.847500</td>\n",
       "      <td>20.129999</td>\n",
       "      <td>212818400.0</td>\n",
       "      <td>2842000.0</td>\n",
>>>>>>> Stashed changes
       "    </tr>\n",
       "    <tr>\n",
       "      <th>2015-01-05</th>\n",
       "      <td>24.238857</td>\n",
       "      <td>19.058874</td>\n",
<<<<<<< Updated upstream
       "      <td>123.902168</td>\n",
       "      <td>74.221535</td>\n",
       "      <td>26.562500</td>\n",
       "      <td>19.790001</td>\n",
       "      <td>159.509995</td>\n",
       "      <td>85.650002</td>\n",
       "      <td>27.162500</td>\n",
       "      <td>20.190001</td>\n",
       "      <td>...</td>\n",
       "      <td>159.190002</td>\n",
       "      <td>85.510002</td>\n",
       "      <td>27.072500</td>\n",
       "      <td>20.129999</td>\n",
       "      <td>161.270004</td>\n",
       "      <td>85.720001</td>\n",
       "      <td>257142000.0</td>\n",
       "      <td>4948800.0</td>\n",
       "      <td>4880400.0</td>\n",
       "      <td>6979000.0</td>\n",
=======
       "      <td>26.562500</td>\n",
       "      <td>19.790001</td>\n",
       "      <td>27.162500</td>\n",
       "      <td>20.190001</td>\n",
       "      <td>26.352501</td>\n",
       "      <td>19.700001</td>\n",
       "      <td>27.072500</td>\n",
       "      <td>20.129999</td>\n",
       "      <td>257142000.0</td>\n",
       "      <td>4948800.0</td>\n",
>>>>>>> Stashed changes
       "    </tr>\n",
       "    <tr>\n",
       "      <th>2015-01-06</th>\n",
       "      <td>24.241146</td>\n",
       "      <td>18.481041</td>\n",
<<<<<<< Updated upstream
       "      <td>121.230103</td>\n",
       "      <td>74.793457</td>\n",
       "      <td>26.565001</td>\n",
       "      <td>19.190001</td>\n",
       "      <td>156.070007</td>\n",
       "      <td>86.309998</td>\n",
       "      <td>26.857500</td>\n",
       "      <td>19.840000</td>\n",
       "      <td>...</td>\n",
       "      <td>155.169998</td>\n",
       "      <td>85.790001</td>\n",
       "      <td>26.635000</td>\n",
       "      <td>19.820000</td>\n",
       "      <td>159.669998</td>\n",
       "      <td>85.980003</td>\n",
       "      <td>263188400.0</td>\n",
       "      <td>4944100.0</td>\n",
       "      <td>6146700.0</td>\n",
       "      <td>8205100.0</td>\n",
=======
       "      <td>26.565001</td>\n",
       "      <td>19.190001</td>\n",
       "      <td>26.857500</td>\n",
       "      <td>19.840000</td>\n",
       "      <td>26.157499</td>\n",
       "      <td>19.170000</td>\n",
       "      <td>26.635000</td>\n",
       "      <td>19.820000</td>\n",
       "      <td>263188400.0</td>\n",
       "      <td>4944100.0</td>\n",
>>>>>>> Stashed changes
       "    </tr>\n",
       "    <tr>\n",
       "      <th>2015-01-07</th>\n",
       "      <td>24.581060</td>\n",
       "      <td>18.432886</td>\n",
<<<<<<< Updated upstream
       "      <td>120.437820</td>\n",
       "      <td>76.777901</td>\n",
       "      <td>26.937500</td>\n",
       "      <td>19.139999</td>\n",
       "      <td>155.050003</td>\n",
       "      <td>88.599998</td>\n",
       "      <td>27.049999</td>\n",
       "      <td>19.500000</td>\n",
       "      <td>...</td>\n",
       "      <td>154.029999</td>\n",
       "      <td>86.669998</td>\n",
       "      <td>26.799999</td>\n",
       "      <td>19.330000</td>\n",
       "      <td>157.199997</td>\n",
       "      <td>86.779999</td>\n",
       "      <td>160423600.0</td>\n",
       "      <td>8045200.0</td>\n",
       "      <td>4701800.0</td>\n",
       "      <td>8498400.0</td>\n",
=======
       "      <td>26.937500</td>\n",
       "      <td>19.139999</td>\n",
       "      <td>27.049999</td>\n",
       "      <td>19.500000</td>\n",
       "      <td>26.674999</td>\n",
       "      <td>19.080000</td>\n",
       "      <td>26.799999</td>\n",
       "      <td>19.330000</td>\n",
       "      <td>160423600.0</td>\n",
       "      <td>8045200.0</td>\n",
>>>>>>> Stashed changes
       "    </tr>\n",
       "    <tr>\n",
       "      <th>2015-01-08</th>\n",
       "      <td>25.525522</td>\n",
       "      <td>19.126284</td>\n",
<<<<<<< Updated upstream
       "      <td>123.055511</td>\n",
       "      <td>78.398384</td>\n",
       "      <td>27.972500</td>\n",
       "      <td>19.860001</td>\n",
       "      <td>158.419998</td>\n",
       "      <td>90.470001</td>\n",
       "      <td>28.037500</td>\n",
       "      <td>19.980000</td>\n",
       "      <td>...</td>\n",
       "      <td>155.550003</td>\n",
       "      <td>89.070000</td>\n",
       "      <td>27.307501</td>\n",
       "      <td>19.360001</td>\n",
       "      <td>156.240005</td>\n",
       "      <td>89.209999</td>\n",
       "      <td>237458000.0</td>\n",
       "      <td>7094500.0</td>\n",
       "      <td>4236800.0</td>\n",
       "      <td>12713600.0</td>\n",
       "    </tr>\n",
       "  </tbody>\n",
       "</table>\n",
       "<p>5 rows × 24 columns</p>\n",
       "</div>"
      ],
      "text/plain": [
       "Attributes  Adj Close                                        Close             \\\n",
       "Symbols          AAPL       NVDA         IBM        WMT       AAPL       NVDA   \n",
       "Date                                                                            \n",
       "2015-01-02  24.941502  19.386309  125.882919  74.438179  27.332500  20.129999   \n",
       "2015-01-05  24.238857  19.058874  123.902168  74.221535  26.562500  19.790001   \n",
       "2015-01-06  24.241146  18.481041  121.230103  74.793457  26.565001  19.190001   \n",
       "2015-01-07  24.581060  18.432886  120.437820  76.777901  26.937500  19.139999   \n",
       "2015-01-08  25.525522  19.126284  123.055511  78.398384  27.972500  19.860001   \n",
       "\n",
       "Attributes                              High             ...         Low  \\\n",
       "Symbols            IBM        WMT       AAPL       NVDA  ...         IBM   \n",
       "Date                                                     ...               \n",
       "2015-01-02  162.059998  85.900002  27.860001  20.280001  ...  161.000000   \n",
       "2015-01-05  159.509995  85.650002  27.162500  20.190001  ...  159.190002   \n",
       "2015-01-06  156.070007  86.309998  26.857500  19.840000  ...  155.169998   \n",
       "2015-01-07  155.050003  88.599998  27.049999  19.500000  ...  154.029999   \n",
       "2015-01-08  158.419998  90.470001  28.037500  19.980000  ...  155.550003   \n",
       "\n",
       "Attributes                  Open                                    \\\n",
       "Symbols           WMT       AAPL       NVDA         IBM        WMT   \n",
       "Date                                                                 \n",
       "2015-01-02  85.550003  27.847500  20.129999  161.309998  86.269997   \n",
       "2015-01-05  85.510002  27.072500  20.129999  161.270004  85.720001   \n",
       "2015-01-06  85.790001  26.635000  19.820000  159.669998  85.980003   \n",
       "2015-01-07  86.669998  26.799999  19.330000  157.199997  86.779999   \n",
       "2015-01-08  89.070000  27.307501  19.360001  156.240005  89.209999   \n",
       "\n",
       "Attributes       Volume                                    \n",
       "Symbols            AAPL       NVDA        IBM         WMT  \n",
       "Date                                                       \n",
       "2015-01-02  212818400.0  2842000.0  5525500.0   4501800.0  \n",
       "2015-01-05  257142000.0  4948800.0  4880400.0   6979000.0  \n",
       "2015-01-06  263188400.0  4944100.0  6146700.0   8205100.0  \n",
       "2015-01-07  160423600.0  8045200.0  4701800.0   8498400.0  \n",
       "2015-01-08  237458000.0  7094500.0  4236800.0  12713600.0  \n",
       "\n",
       "[5 rows x 24 columns]"
      ]
     },
     "execution_count": 15,
=======
       "      <td>27.972500</td>\n",
       "      <td>19.860001</td>\n",
       "      <td>28.037500</td>\n",
       "      <td>19.980000</td>\n",
       "      <td>27.174999</td>\n",
       "      <td>19.350000</td>\n",
       "      <td>27.307501</td>\n",
       "      <td>19.360001</td>\n",
       "      <td>237458000.0</td>\n",
       "      <td>7094500.0</td>\n",
       "    </tr>\n",
       "  </tbody>\n",
       "</table>\n",
       "</div>"
      ],
      "text/plain": [
       "Attributes  Adj Close                 Close                  High             \\\n",
       "Symbols          AAPL       NVDA       AAPL       NVDA       AAPL       NVDA   \n",
       "Date                                                                           \n",
       "2015-01-02  24.941502  19.386309  27.332500  20.129999  27.860001  20.280001   \n",
       "2015-01-05  24.238857  19.058874  26.562500  19.790001  27.162500  20.190001   \n",
       "2015-01-06  24.241146  18.481041  26.565001  19.190001  26.857500  19.840000   \n",
       "2015-01-07  24.581060  18.432886  26.937500  19.139999  27.049999  19.500000   \n",
       "2015-01-08  25.525522  19.126284  27.972500  19.860001  28.037500  19.980000   \n",
       "\n",
       "Attributes        Low                  Open                  Volume             \n",
       "Symbols          AAPL       NVDA       AAPL       NVDA         AAPL       NVDA  \n",
       "Date                                                                            \n",
       "2015-01-02  26.837500  19.809999  27.847500  20.129999  212818400.0  2842000.0  \n",
       "2015-01-05  26.352501  19.700001  27.072500  20.129999  257142000.0  4948800.0  \n",
       "2015-01-06  26.157499  19.170000  26.635000  19.820000  263188400.0  4944100.0  \n",
       "2015-01-07  26.674999  19.080000  26.799999  19.330000  160423600.0  8045200.0  \n",
       "2015-01-08  27.174999  19.350000  27.307501  19.360001  237458000.0  7094500.0  "
      ]
     },
     "execution_count": 29,
>>>>>>> Stashed changes
     "metadata": {},
     "output_type": "execute_result"
    }
   ],
   "source": [
    "# Ejemplo yahoo\n",
<<<<<<< Updated upstream
    "name = ['AAPL', 'NVDA', 'IBM', 'WMT']\n",
    "source = 'yahoo'\n",
    "start = '2015-01-01'\n",
    "web.DataReader(name=name, data_source=source, start=start).head()"
=======
    "name = ['AAPL', 'NVDA']\n",
    "source = 'yahoo'\n",
    "start = '2015-01-01'\n",
    "web.DataReader(name = name, data_source = source, start = start).head()"
   ]
  },
  {
   "cell_type": "code",
   "execution_count": 28,
   "metadata": {},
   "outputs": [
    {
     "data": {
      "text/html": [
       "<div>\n",
       "<style scoped>\n",
       "    .dataframe tbody tr th:only-of-type {\n",
       "        vertical-align: middle;\n",
       "    }\n",
       "\n",
       "    .dataframe tbody tr th {\n",
       "        vertical-align: top;\n",
       "    }\n",
       "\n",
       "    .dataframe thead th {\n",
       "        text-align: right;\n",
       "    }\n",
       "</style>\n",
       "<table border=\"1\" class=\"dataframe\">\n",
       "  <thead>\n",
       "    <tr style=\"text-align: right;\">\n",
       "      <th></th>\n",
       "      <th>Open</th>\n",
       "      <th>High</th>\n",
       "      <th>Low</th>\n",
       "      <th>Close</th>\n",
       "      <th>Adj Close</th>\n",
       "      <th>Volume</th>\n",
       "    </tr>\n",
       "    <tr>\n",
       "      <th>Date</th>\n",
       "      <th></th>\n",
       "      <th></th>\n",
       "      <th></th>\n",
       "      <th></th>\n",
       "      <th></th>\n",
       "      <th></th>\n",
       "    </tr>\n",
       "  </thead>\n",
       "  <tbody>\n",
       "    <tr>\n",
       "      <th>2015-01-02</th>\n",
       "      <td>27.847500</td>\n",
       "      <td>27.860001</td>\n",
       "      <td>26.837500</td>\n",
       "      <td>27.332500</td>\n",
       "      <td>24.941502</td>\n",
       "      <td>212818400</td>\n",
       "    </tr>\n",
       "    <tr>\n",
       "      <th>2015-01-05</th>\n",
       "      <td>27.072500</td>\n",
       "      <td>27.162500</td>\n",
       "      <td>26.352501</td>\n",
       "      <td>26.562500</td>\n",
       "      <td>24.238857</td>\n",
       "      <td>257142000</td>\n",
       "    </tr>\n",
       "    <tr>\n",
       "      <th>2015-01-06</th>\n",
       "      <td>26.635000</td>\n",
       "      <td>26.857500</td>\n",
       "      <td>26.157499</td>\n",
       "      <td>26.565001</td>\n",
       "      <td>24.241146</td>\n",
       "      <td>263188400</td>\n",
       "    </tr>\n",
       "    <tr>\n",
       "      <th>2015-01-07</th>\n",
       "      <td>26.799999</td>\n",
       "      <td>27.049999</td>\n",
       "      <td>26.674999</td>\n",
       "      <td>26.937500</td>\n",
       "      <td>24.581060</td>\n",
       "      <td>160423600</td>\n",
       "    </tr>\n",
       "    <tr>\n",
       "      <th>2015-01-08</th>\n",
       "      <td>27.307501</td>\n",
       "      <td>28.037500</td>\n",
       "      <td>27.174999</td>\n",
       "      <td>27.972500</td>\n",
       "      <td>25.525522</td>\n",
       "      <td>237458000</td>\n",
       "    </tr>\n",
       "  </tbody>\n",
       "</table>\n",
       "</div>"
      ],
      "text/plain": [
       "                 Open       High        Low      Close  Adj Close     Volume\n",
       "Date                                                                        \n",
       "2015-01-02  27.847500  27.860001  26.837500  27.332500  24.941502  212818400\n",
       "2015-01-05  27.072500  27.162500  26.352501  26.562500  24.238857  257142000\n",
       "2015-01-06  26.635000  26.857500  26.157499  26.565001  24.241146  263188400\n",
       "2015-01-07  26.799999  27.049999  26.674999  26.937500  24.581060  160423600\n",
       "2015-01-08  27.307501  28.037500  27.174999  27.972500  25.525522  237458000"
      ]
     },
     "execution_count": 28,
     "metadata": {},
     "output_type": "execute_result"
    }
   ],
   "source": [
    "AAPL.head()"
>>>>>>> Stashed changes
   ]
  },
  {
   "cell_type": "code",
   "execution_count": 13,
   "metadata": {},
   "outputs": [
    {
     "data": {
      "text/html": [
       "<div>\n",
       "<style scoped>\n",
       "    .dataframe tbody tr th:only-of-type {\n",
       "        vertical-align: middle;\n",
       "    }\n",
       "\n",
       "    .dataframe tbody tr th {\n",
       "        vertical-align: top;\n",
       "    }\n",
       "\n",
       "    .dataframe thead th {\n",
       "        text-align: right;\n",
       "    }\n",
       "</style>\n",
       "<table border=\"1\" class=\"dataframe\">\n",
       "  <thead>\n",
       "    <tr style=\"text-align: right;\">\n",
       "      <th></th>\n",
       "      <th>Adj Close</th>\n",
       "    </tr>\n",
       "    <tr>\n",
       "      <th>Date</th>\n",
       "      <th></th>\n",
       "    </tr>\n",
       "  </thead>\n",
       "  <tbody>\n",
       "    <tr>\n",
       "      <th>2015-01-02</th>\n",
       "      <td>24.941502</td>\n",
       "    </tr>\n",
       "    <tr>\n",
       "      <th>2015-01-05</th>\n",
       "      <td>24.238857</td>\n",
       "    </tr>\n",
       "    <tr>\n",
       "      <th>2015-01-06</th>\n",
       "      <td>24.241146</td>\n",
       "    </tr>\n",
       "    <tr>\n",
       "      <th>2015-01-07</th>\n",
       "      <td>24.581060</td>\n",
       "    </tr>\n",
       "    <tr>\n",
       "      <th>2015-01-08</th>\n",
       "      <td>25.525522</td>\n",
       "    </tr>\n",
       "  </tbody>\n",
       "</table>\n",
       "</div>"
      ],
      "text/plain": [
       "            Adj Close\n",
       "Date                 \n",
       "2015-01-02  24.941502\n",
       "2015-01-05  24.238857\n",
       "2015-01-06  24.241146\n",
       "2015-01-07  24.581060\n",
       "2015-01-08  25.525522"
      ]
     },
     "execution_count": 13,
     "metadata": {},
     "output_type": "execute_result"
    }
   ],
   "source": [
    "AAPL.head()"
   ]
  },
  {
   "cell_type": "code",
<<<<<<< Updated upstream
   "execution_count": 16,
=======
   "execution_count": 30,
>>>>>>> Stashed changes
   "metadata": {},
   "outputs": [],
   "source": [
    "# Función para descargar precios de cierre ajustados:\n",
    "def get_adj_closes(tickers, start_date=None, end_date=None):\n",
    "    # Fecha inicio por defecto (start_date='2010-01-01') y fecha fin por defecto (end_date=today)\n",
    "    # Descargamos DataFrame con todos los datos\n",
    "    closes = web.DataReader(name=tickers, data_source='yahoo', start=start_date, end=end_date)\n",
    "    # Solo necesitamos los precios ajustados en el cierre\n",
    "    closes = closes['Adj Close']\n",
    "    # Se ordenan los índices de manera ascendente\n",
    "    closes.sort_index(inplace=True)\n",
    "    return closes"
   ]
  },
  {
   "cell_type": "markdown",
   "metadata": {},
   "source": [
    "**Nota**: Para descargar datos de la bolsa mexicana de valores (BMV), el ticker debe tener la extensión MX. \n",
    "Por ejemplo: *MEXCHEM.MX*, *LABB.MX*, *GFINBURO.MX* y *GFNORTEO.MX*."
   ]
  },
  {
   "cell_type": "code",
<<<<<<< Updated upstream
   "execution_count": 18,
=======
   "execution_count": 31,
>>>>>>> Stashed changes
   "metadata": {},
   "outputs": [],
   "source": [
    "# Ejemplo: 'AAPL', 'MSFT', 'NVDA', '^GSPC'\n",
<<<<<<< Updated upstream
    "closes = get_adj_closes(tickers=['AAPL', 'MSFT', 'NVDA', '^GSPC'],\n",
    "                        start_date='2015-01-01'\n",
    "                       )"
=======
    "closes = get_adj_closes(tickers = ['AAPL', 'MSFT', 'NVDA', '^GSPC'],\n",
    "                       start_date = '2015-01-01')"
>>>>>>> Stashed changes
   ]
  },
  {
   "cell_type": "code",
<<<<<<< Updated upstream
   "execution_count": 19,
=======
   "execution_count": 32,
>>>>>>> Stashed changes
   "metadata": {},
   "outputs": [
    {
     "data": {
      "text/plain": [
<<<<<<< Updated upstream
       "<matplotlib.axes._subplots.AxesSubplot at 0x7f5bb4f9cb90>"
      ]
     },
     "execution_count": 19,
=======
       "<matplotlib.axes._subplots.AxesSubplot at 0x168ba49ca58>"
      ]
     },
     "execution_count": 32,
>>>>>>> Stashed changes
     "metadata": {},
     "output_type": "execute_result"
    },
    {
     "data": {
<<<<<<< Updated upstream
      "image/png": "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\n",
=======
      "image/png": "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\n",
>>>>>>> Stashed changes
      "text/plain": [
       "<Figure size 576x432 with 1 Axes>"
      ]
     },
     "metadata": {
      "needs_background": "light"
     },
     "output_type": "display_data"
    }
   ],
   "source": [
    "# Gráfico\n",
<<<<<<< Updated upstream
    "closes.plot(figsize=(8, 6),\n",
    "            grid=True)"
=======
    "closes.plot(figsize=(8,6),\n",
    "           grid=True)"
>>>>>>> Stashed changes
   ]
  },
  {
   "cell_type": "markdown",
   "metadata": {},
   "source": [
    "**Conclusión**\n",
    "- Aprendimos a importar datos desde archivos locales.\n",
    "- Aprendimos a importar datos remotamente con el paquete pandas_datareader.\n",
    "\n",
    "¿Ahora qué? Pues con estos históricos, obtendremos los rendimientos y ellos nos servirán como base para caracterizar la distribución de rendimientos... \n",
    "\n",
    "### ¡Oh, si!"
   ]
  },
  {
   "cell_type": "markdown",
   "metadata": {},
   "source": [
    "<script>\n",
    "  $(document).ready(function(){\n",
    "    $('div.prompt').hide();\n",
    "    $('div.back-to-top').hide();\n",
    "    $('nav#menubar').hide();\n",
    "    $('.breadcrumb').hide();\n",
    "    $('.hidden-print').hide();\n",
    "  });\n",
    "</script>\n",
    "\n",
    "<footer id=\"attribution\" style=\"float:right; color:#808080; background:#fff;\">\n",
    "Created with Jupyter by Esteban Jiménez Rodríguez.\n",
    "</footer>"
   ]
  }
 ],
 "metadata": {
  "kernelspec": {
   "display_name": "Python 3",
   "language": "python",
   "name": "python3"
  },
  "language_info": {
   "codemirror_mode": {
    "name": "ipython",
    "version": 3
   },
   "file_extension": ".py",
   "mimetype": "text/x-python",
   "name": "python",
   "nbconvert_exporter": "python",
   "pygments_lexer": "ipython3",
   "version": "3.7.1"
  }
 },
 "nbformat": 4,
 "nbformat_minor": 2
}
