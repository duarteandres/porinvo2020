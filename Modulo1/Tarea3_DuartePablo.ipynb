{
 "cells": [
  {
   "cell_type": "markdown",
   "metadata": {},
   "source": [
    "# Tarea 3. Midiendo rendimiento y riesgo.\n",
    "\n",
    "<img style=\"float: right; margin: 0px 0px 15px 15px;\" src=\"https://www.maxpixel.net/static/photo/1x/Wall-Street-Dices-Over-Newspaper-Profit-Loss-Risk-2656028.jpg\" width=\"600px\" height=\"400px\" />\n",
    "\n",
    "**Resumen.**\n",
    "> En esta tarea descargarás datos históricos de precios y, con base en ellos, calcularás rendimientos. Luego se te pedirá resumir la distribución de rendimientos para cada instrumento calculando el rendimiento medio y volatilidad. De igual manera, se te pedirá presentar dicho resumen en una base anual.\n",
    "\n",
    "**Criterio de revisión.**\n",
    "> Se te calificará de acuerdo a los resultados finales que reportes, basados en tu análisis.\n",
    "\n",
    "**Antes de comenzar.**\n",
    "> Por favor, copiar y pegar este archivo en otra ubicación. Antes de comenzar, nombrarlo *Tarea3_ApellidoNombre*, sin acentos y sin espacios; por ejemplo, en mi caso el archivo se llamaría *Tarea3_JimenezEsteban*. Resolver todos los puntos en dicho archivo y subir en este espacio."
   ]
  },
  {
   "cell_type": "markdown",
   "metadata": {},
   "source": [
    "## 1. Descarga de datos (10 puntos)\n",
    "\n",
    "Descargar los precios diarios ajustados en el cierre para el índice S&P 500 (^GSPC), y para 15 compañías que compongan dicho índice, durante el periodo comprendido del primero de enero del 2015 hasta el 31 de diciembre del 2019.\n",
    "\n",
    "1. Mostrar el DataFrame de los precios diarios (5 puntos).\n",
    "2. Graficar los precios (5 puntos)."
   ]
  },
  {
   "cell_type": "code",
   "execution_count": 45,
   "metadata": {},
   "outputs": [],
   "source": [
    "import pandas_datareader.data as web\n",
    "import pandas as pd\n",
    "import numpy as np\n",
    "%matplotlib inline"
   ]
  },
  {
   "cell_type": "code",
   "execution_count": 46,
   "metadata": {},
   "outputs": [],
   "source": [
    "# Función para descargar precios de cierre ajustados:\n",
    "def get_adj_closes(tickers, start_date=None, end_date=None):\n",
    "    # Fecha inicio por defecto (start_date='2010-01-01') y fecha fin por defecto (end_date=today)\n",
    "    # Descargamos DataFrame con todos los datos\n",
    "    closes = web.DataReader(name=tickers, data_source='yahoo', start=start_date, end=end_date)\n",
    "    # Solo necesitamos los precios ajustados en el cierre\n",
    "    closes = closes['Adj Close']\n",
    "    # Se ordenan los índices de manera ascendente\n",
    "    closes.sort_index(inplace=True)\n",
    "    return closes"
   ]
  },
  {
   "cell_type": "code",
   "execution_count": 47,
   "metadata": {},
   "outputs": [],
   "source": [
    "# Información\n",
    "names = ['AAPL', 'MSFT', 'AMZN', 'FB', 'GOOGL','BAC','BBY','KO','CL','COST','EA','DIS','NFLX','PFE','SBUX','^GSPC']\n",
    "start = '2015-01-01'\n",
    "end = '2019-12-31'"
   ]
  },
  {
   "cell_type": "code",
   "execution_count": 48,
   "metadata": {},
   "outputs": [
    {
     "data": {
      "text/html": [
       "<div>\n",
       "<style scoped>\n",
       "    .dataframe tbody tr th:only-of-type {\n",
       "        vertical-align: middle;\n",
       "    }\n",
       "\n",
       "    .dataframe tbody tr th {\n",
       "        vertical-align: top;\n",
       "    }\n",
       "\n",
       "    .dataframe thead th {\n",
       "        text-align: right;\n",
       "    }\n",
       "</style>\n",
       "<table border=\"1\" class=\"dataframe\">\n",
       "  <thead>\n",
       "    <tr style=\"text-align: right;\">\n",
       "      <th>Symbols</th>\n",
       "      <th>AAPL</th>\n",
       "      <th>AMZN</th>\n",
       "      <th>BAC</th>\n",
       "      <th>BBY</th>\n",
       "      <th>CL</th>\n",
       "      <th>COST</th>\n",
       "      <th>DIS</th>\n",
       "      <th>EA</th>\n",
       "      <th>FB</th>\n",
       "      <th>GOOGL</th>\n",
       "      <th>KO</th>\n",
       "      <th>MSFT</th>\n",
       "      <th>NFLX</th>\n",
       "      <th>PFE</th>\n",
       "      <th>SBUX</th>\n",
       "      <th>^GSPC</th>\n",
       "    </tr>\n",
       "    <tr>\n",
       "      <th>Date</th>\n",
       "      <th></th>\n",
       "      <th></th>\n",
       "      <th></th>\n",
       "      <th></th>\n",
       "      <th></th>\n",
       "      <th></th>\n",
       "      <th></th>\n",
       "      <th></th>\n",
       "      <th></th>\n",
       "      <th></th>\n",
       "      <th></th>\n",
       "      <th></th>\n",
       "      <th></th>\n",
       "      <th></th>\n",
       "      <th></th>\n",
       "      <th></th>\n",
       "    </tr>\n",
       "  </thead>\n",
       "  <tbody>\n",
       "    <tr>\n",
       "      <th>2015-01-02</th>\n",
       "      <td>24.941502</td>\n",
       "      <td>308.519989</td>\n",
       "      <td>16.126829</td>\n",
       "      <td>32.477043</td>\n",
       "      <td>60.399689</td>\n",
       "      <td>124.026451</td>\n",
       "      <td>87.376266</td>\n",
       "      <td>46.869999</td>\n",
       "      <td>78.449997</td>\n",
       "      <td>529.549988</td>\n",
       "      <td>35.171711</td>\n",
       "      <td>41.647892</td>\n",
       "      <td>49.848572</td>\n",
       "      <td>25.397703</td>\n",
       "      <td>36.724155</td>\n",
       "      <td>2058.199951</td>\n",
       "    </tr>\n",
       "    <tr>\n",
       "      <th>2015-01-05</th>\n",
       "      <td>24.238857</td>\n",
       "      <td>302.190002</td>\n",
       "      <td>15.658340</td>\n",
       "      <td>31.639788</td>\n",
       "      <td>59.953506</td>\n",
       "      <td>122.616356</td>\n",
       "      <td>86.099403</td>\n",
       "      <td>46.570000</td>\n",
       "      <td>77.190002</td>\n",
       "      <td>519.460022</td>\n",
       "      <td>35.171711</td>\n",
       "      <td>41.264908</td>\n",
       "      <td>47.311428</td>\n",
       "      <td>25.259901</td>\n",
       "      <td>36.020691</td>\n",
       "      <td>2020.579956</td>\n",
       "    </tr>\n",
       "    <tr>\n",
       "      <th>2015-01-06</th>\n",
       "      <td>24.241146</td>\n",
       "      <td>295.290009</td>\n",
       "      <td>15.189854</td>\n",
       "      <td>31.355127</td>\n",
       "      <td>59.323627</td>\n",
       "      <td>124.236641</td>\n",
       "      <td>85.642708</td>\n",
       "      <td>45.959999</td>\n",
       "      <td>76.150002</td>\n",
       "      <td>506.640015</td>\n",
       "      <td>35.438805</td>\n",
       "      <td>40.659245</td>\n",
       "      <td>46.501427</td>\n",
       "      <td>25.470665</td>\n",
       "      <td>35.727585</td>\n",
       "      <td>2002.609985</td>\n",
       "    </tr>\n",
       "    <tr>\n",
       "      <th>2015-01-07</th>\n",
       "      <td>24.581060</td>\n",
       "      <td>298.420013</td>\n",
       "      <td>15.261930</td>\n",
       "      <td>32.259354</td>\n",
       "      <td>59.796043</td>\n",
       "      <td>126.399971</td>\n",
       "      <td>86.518814</td>\n",
       "      <td>46.810001</td>\n",
       "      <td>76.150002</td>\n",
       "      <td>505.149994</td>\n",
       "      <td>35.881165</td>\n",
       "      <td>41.175831</td>\n",
       "      <td>46.742859</td>\n",
       "      <td>25.819241</td>\n",
       "      <td>36.606911</td>\n",
       "      <td>2025.900024</td>\n",
       "    </tr>\n",
       "    <tr>\n",
       "      <th>2015-01-08</th>\n",
       "      <td>25.525522</td>\n",
       "      <td>300.459991</td>\n",
       "      <td>15.577259</td>\n",
       "      <td>32.744965</td>\n",
       "      <td>60.609665</td>\n",
       "      <td>127.485947</td>\n",
       "      <td>87.413536</td>\n",
       "      <td>48.130001</td>\n",
       "      <td>78.180000</td>\n",
       "      <td>506.910004</td>\n",
       "      <td>36.315170</td>\n",
       "      <td>42.387146</td>\n",
       "      <td>47.779999</td>\n",
       "      <td>26.346167</td>\n",
       "      <td>37.197636</td>\n",
       "      <td>2062.139893</td>\n",
       "    </tr>\n",
       "  </tbody>\n",
       "</table>\n",
       "</div>"
      ],
      "text/plain": [
       "Symbols          AAPL        AMZN        BAC        BBY         CL  \\\n",
       "Date                                                                 \n",
       "2015-01-02  24.941502  308.519989  16.126829  32.477043  60.399689   \n",
       "2015-01-05  24.238857  302.190002  15.658340  31.639788  59.953506   \n",
       "2015-01-06  24.241146  295.290009  15.189854  31.355127  59.323627   \n",
       "2015-01-07  24.581060  298.420013  15.261930  32.259354  59.796043   \n",
       "2015-01-08  25.525522  300.459991  15.577259  32.744965  60.609665   \n",
       "\n",
       "Symbols           COST        DIS         EA         FB       GOOGL  \\\n",
       "Date                                                                  \n",
       "2015-01-02  124.026451  87.376266  46.869999  78.449997  529.549988   \n",
       "2015-01-05  122.616356  86.099403  46.570000  77.190002  519.460022   \n",
       "2015-01-06  124.236641  85.642708  45.959999  76.150002  506.640015   \n",
       "2015-01-07  126.399971  86.518814  46.810001  76.150002  505.149994   \n",
       "2015-01-08  127.485947  87.413536  48.130001  78.180000  506.910004   \n",
       "\n",
       "Symbols            KO       MSFT       NFLX        PFE       SBUX        ^GSPC  \n",
       "Date                                                                            \n",
       "2015-01-02  35.171711  41.647892  49.848572  25.397703  36.724155  2058.199951  \n",
       "2015-01-05  35.171711  41.264908  47.311428  25.259901  36.020691  2020.579956  \n",
       "2015-01-06  35.438805  40.659245  46.501427  25.470665  35.727585  2002.609985  \n",
       "2015-01-07  35.881165  41.175831  46.742859  25.819241  36.606911  2025.900024  \n",
       "2015-01-08  36.315170  42.387146  47.779999  26.346167  37.197636  2062.139893  "
      ]
     },
     "execution_count": 48,
     "metadata": {},
     "output_type": "execute_result"
    }
   ],
   "source": [
    "#Precios diarios de las 15 compañías\n",
    "closes = get_adj_closes(tickers=names,\n",
    "                       start_date=start,\n",
    "                       end_date=end)\n",
    "closes.head()"
   ]
  },
  {
   "cell_type": "code",
   "execution_count": 49,
   "metadata": {},
   "outputs": [
    {
     "data": {
      "text/plain": [
       "<matplotlib.axes._subplots.AxesSubplot at 0x211eee742e8>"
      ]
     },
     "execution_count": 49,
     "metadata": {},
     "output_type": "execute_result"
    },
    {
     "data": {
      "image/png": "[encoded data removed]",
      "text/plain": [
       "<Figure size 432x288 with 1 Axes>"
      ]
     },
     "metadata": {
      "needs_background": "light"
     },
     "output_type": "display_data"
    }
   ],
   "source": [
    "closes.plot()"
   ]
  },
  {
   "cell_type": "markdown",
   "metadata": {},
   "source": [
    "## Podemos ver la progresión de los precios de las acciones y de los puntos del Índice SP500  desde 2015 hasta 2019"
   ]
  },
  {
   "cell_type": "markdown",
   "metadata": {},
   "source": [
    "## 2. Cálculo de rendimientos diarios (20 puntos)\n",
    "\n",
    "A partir de los precios que descargaste en el anterior punto, calcular los rendimientos porcentuales diarios.\n",
    "\n",
    "1. Mostrar el DataFrame de los rendimientos porcentuales diarios (10 puntos).\n",
    "2. Graficar los rendimientos (10 puntos)."
   ]
  },
  {
   "cell_type": "code",
   "execution_count": 50,
   "metadata": {},
   "outputs": [
    {
     "data": {
      "text/html": [
       "<div>\n",
       "<style scoped>\n",
       "    .dataframe tbody tr th:only-of-type {\n",
       "        vertical-align: middle;\n",
       "    }\n",
       "\n",
       "    .dataframe tbody tr th {\n",
       "        vertical-align: top;\n",
       "    }\n",
       "\n",
       "    .dataframe thead th {\n",
       "        text-align: right;\n",
       "    }\n",
       "</style>\n",
       "<table border=\"1\" class=\"dataframe\">\n",
       "  <thead>\n",
       "    <tr style=\"text-align: right;\">\n",
       "      <th>Symbols</th>\n",
       "      <th>AAPL</th>\n",
       "      <th>AMZN</th>\n",
       "      <th>BAC</th>\n",
       "      <th>BBY</th>\n",
       "      <th>CL</th>\n",
       "      <th>COST</th>\n",
       "      <th>DIS</th>\n",
       "      <th>EA</th>\n",
       "      <th>FB</th>\n",
       "      <th>GOOGL</th>\n",
       "      <th>KO</th>\n",
       "      <th>MSFT</th>\n",
       "      <th>NFLX</th>\n",
       "      <th>PFE</th>\n",
       "      <th>SBUX</th>\n",
       "      <th>^GSPC</th>\n",
       "    </tr>\n",
       "    <tr>\n",
       "      <th>Date</th>\n",
       "      <th></th>\n",
       "      <th></th>\n",
       "      <th></th>\n",
       "      <th></th>\n",
       "      <th></th>\n",
       "      <th></th>\n",
       "      <th></th>\n",
       "      <th></th>\n",
       "      <th></th>\n",
       "      <th></th>\n",
       "      <th></th>\n",
       "      <th></th>\n",
       "      <th></th>\n",
       "      <th></th>\n",
       "      <th></th>\n",
       "      <th></th>\n",
       "    </tr>\n",
       "  </thead>\n",
       "  <tbody>\n",
       "    <tr>\n",
       "      <th>2015-01-05</th>\n",
       "      <td>-0.028172</td>\n",
       "      <td>-0.020517</td>\n",
       "      <td>-0.029050</td>\n",
       "      <td>-0.025780</td>\n",
       "      <td>-0.007387</td>\n",
       "      <td>-0.011369</td>\n",
       "      <td>-0.014613</td>\n",
       "      <td>-0.006401</td>\n",
       "      <td>-0.016061</td>\n",
       "      <td>-0.019054</td>\n",
       "      <td>0.000000</td>\n",
       "      <td>-0.009196</td>\n",
       "      <td>-0.050897</td>\n",
       "      <td>-0.005426</td>\n",
       "      <td>-0.019155</td>\n",
       "      <td>-0.018278</td>\n",
       "    </tr>\n",
       "    <tr>\n",
       "      <th>2015-01-06</th>\n",
       "      <td>0.000094</td>\n",
       "      <td>-0.022833</td>\n",
       "      <td>-0.029919</td>\n",
       "      <td>-0.008997</td>\n",
       "      <td>-0.010506</td>\n",
       "      <td>0.013214</td>\n",
       "      <td>-0.005304</td>\n",
       "      <td>-0.013099</td>\n",
       "      <td>-0.013473</td>\n",
       "      <td>-0.024679</td>\n",
       "      <td>0.007594</td>\n",
       "      <td>-0.014677</td>\n",
       "      <td>-0.017121</td>\n",
       "      <td>0.008344</td>\n",
       "      <td>-0.008137</td>\n",
       "      <td>-0.008893</td>\n",
       "    </tr>\n",
       "    <tr>\n",
       "      <th>2015-01-07</th>\n",
       "      <td>0.014022</td>\n",
       "      <td>0.010600</td>\n",
       "      <td>0.004745</td>\n",
       "      <td>0.028838</td>\n",
       "      <td>0.007963</td>\n",
       "      <td>0.017413</td>\n",
       "      <td>0.010230</td>\n",
       "      <td>0.018494</td>\n",
       "      <td>0.000000</td>\n",
       "      <td>-0.002941</td>\n",
       "      <td>0.012482</td>\n",
       "      <td>0.012705</td>\n",
       "      <td>0.005192</td>\n",
       "      <td>0.013685</td>\n",
       "      <td>0.024612</td>\n",
       "      <td>0.011630</td>\n",
       "    </tr>\n",
       "    <tr>\n",
       "      <th>2015-01-08</th>\n",
       "      <td>0.038422</td>\n",
       "      <td>0.006836</td>\n",
       "      <td>0.020661</td>\n",
       "      <td>0.015053</td>\n",
       "      <td>0.013607</td>\n",
       "      <td>0.008592</td>\n",
       "      <td>0.010341</td>\n",
       "      <td>0.028199</td>\n",
       "      <td>0.026658</td>\n",
       "      <td>0.003484</td>\n",
       "      <td>0.012096</td>\n",
       "      <td>0.029418</td>\n",
       "      <td>0.022188</td>\n",
       "      <td>0.020408</td>\n",
       "      <td>0.016137</td>\n",
       "      <td>0.017888</td>\n",
       "    </tr>\n",
       "    <tr>\n",
       "      <th>2015-01-09</th>\n",
       "      <td>0.001072</td>\n",
       "      <td>-0.011749</td>\n",
       "      <td>-0.017929</td>\n",
       "      <td>-0.026847</td>\n",
       "      <td>-0.009815</td>\n",
       "      <td>-0.015388</td>\n",
       "      <td>0.004904</td>\n",
       "      <td>-0.012882</td>\n",
       "      <td>-0.005628</td>\n",
       "      <td>-0.012211</td>\n",
       "      <td>-0.011032</td>\n",
       "      <td>-0.008405</td>\n",
       "      <td>-0.015458</td>\n",
       "      <td>0.004615</td>\n",
       "      <td>-0.032731</td>\n",
       "      <td>-0.008404</td>\n",
       "    </tr>\n",
       "  </tbody>\n",
       "</table>\n",
       "</div>"
      ],
      "text/plain": [
       "Symbols         AAPL      AMZN       BAC       BBY        CL      COST  \\\n",
       "Date                                                                     \n",
       "2015-01-05 -0.028172 -0.020517 -0.029050 -0.025780 -0.007387 -0.011369   \n",
       "2015-01-06  0.000094 -0.022833 -0.029919 -0.008997 -0.010506  0.013214   \n",
       "2015-01-07  0.014022  0.010600  0.004745  0.028838  0.007963  0.017413   \n",
       "2015-01-08  0.038422  0.006836  0.020661  0.015053  0.013607  0.008592   \n",
       "2015-01-09  0.001072 -0.011749 -0.017929 -0.026847 -0.009815 -0.015388   \n",
       "\n",
       "Symbols          DIS        EA        FB     GOOGL        KO      MSFT  \\\n",
       "Date                                                                     \n",
       "2015-01-05 -0.014613 -0.006401 -0.016061 -0.019054  0.000000 -0.009196   \n",
       "2015-01-06 -0.005304 -0.013099 -0.013473 -0.024679  0.007594 -0.014677   \n",
       "2015-01-07  0.010230  0.018494  0.000000 -0.002941  0.012482  0.012705   \n",
       "2015-01-08  0.010341  0.028199  0.026658  0.003484  0.012096  0.029418   \n",
       "2015-01-09  0.004904 -0.012882 -0.005628 -0.012211 -0.011032 -0.008405   \n",
       "\n",
       "Symbols         NFLX       PFE      SBUX     ^GSPC  \n",
       "Date                                                \n",
       "2015-01-05 -0.050897 -0.005426 -0.019155 -0.018278  \n",
       "2015-01-06 -0.017121  0.008344 -0.008137 -0.008893  \n",
       "2015-01-07  0.005192  0.013685  0.024612  0.011630  \n",
       "2015-01-08  0.022188  0.020408  0.016137  0.017888  \n",
       "2015-01-09 -0.015458  0.004615 -0.032731 -0.008404  "
      ]
     },
     "execution_count": 50,
     "metadata": {},
     "output_type": "execute_result"
    }
   ],
   "source": [
    "# Rendimientos porcentuales diarios de las 15 compañías\n",
    "ret = closes.pct_change().dropna()\n",
    "ret.head()"
   ]
  },
  {
   "cell_type": "code",
   "execution_count": 51,
   "metadata": {},
   "outputs": [
    {
     "data": {
      "text/plain": [
       "<matplotlib.axes._subplots.AxesSubplot at 0x211eeefee80>"
      ]
     },
     "execution_count": 51,
     "metadata": {},
     "output_type": "execute_result"
    },
    {
     "data": {
      "image/png": "[encoded data removed]",
      "text/plain": [
       "<Figure size 432x288 with 1 Axes>"
      ]
     },
     "metadata": {
      "needs_background": "light"
     },
     "output_type": "display_data"
    }
   ],
   "source": [
    "ret.plot()"
   ]
  },
  {
   "cell_type": "markdown",
   "metadata": {},
   "source": [
    "## 3. Resumen de distribución de rendimientos (30 puntos)\n",
    "\n",
    "Con base en los rendimientos que calculaste en el punto anterior:\n",
    "\n",
    "1. Calcular el rendimiento medio diario para el índice S&P 500 y para los demás activos. Anualizar los rendimientos (15 puntos). \n",
    "\n",
    "2. Calcular la volatilidad diaria para el índice S&P 500 y para los demás activos. Anualizar (15 puntos).\n",
    "\n",
    "Por favor, reportar los resultados en DataFrames tal y como lo vimos en clase."
   ]
  },
  {
   "cell_type": "code",
   "execution_count": 52,
   "metadata": {},
   "outputs": [
    {
     "data": {
      "text/plain": [
       "Symbols\n",
       "AAPL     0.000976\n",
       "AMZN     0.001593\n",
       "BAC      0.000737\n",
       "BBY      0.001019\n",
       "CL       0.000149\n",
       "COST     0.000751\n",
       "DIS      0.000479\n",
       "EA       0.000850\n",
       "FB       0.000924\n",
       "GOOGL    0.000850\n",
       "KO       0.000387\n",
       "MSFT     0.001161\n",
       "NFLX     0.001829\n",
       "PFE      0.000386\n",
       "SBUX     0.000767\n",
       "^GSPC    0.000395\n",
       "dtype: float64"
      ]
     },
     "execution_count": 52,
     "metadata": {},
     "output_type": "execute_result"
    }
   ],
   "source": [
    "#Rendimientos medios diarios (media aritmética)\n",
    "ret.mean()"
   ]
  },
  {
   "cell_type": "code",
   "execution_count": 53,
   "metadata": {},
   "outputs": [
    {
     "data": {
      "text/plain": [
       "Symbols\n",
       "AAPL     0.015646\n",
       "AMZN     0.018426\n",
       "BAC      0.016196\n",
       "BBY      0.022053\n",
       "CL       0.010848\n",
       "COST     0.011760\n",
       "DIS      0.012541\n",
       "EA       0.019540\n",
       "FB       0.017776\n",
       "GOOGL    0.014977\n",
       "KO       0.008918\n",
       "MSFT     0.014686\n",
       "NFLX     0.026253\n",
       "PFE      0.011363\n",
       "SBUX     0.012988\n",
       "^GSPC    0.008466\n",
       "dtype: float64"
      ]
     },
     "execution_count": 53,
     "metadata": {},
     "output_type": "execute_result"
    }
   ],
   "source": [
    "# Volatilidad diaria (desviación estándar)\n",
    "ret.std()"
   ]
  },
  {
   "cell_type": "code",
   "execution_count": 54,
   "metadata": {},
   "outputs": [
    {
     "data": {
      "text/html": [
       "<div>\n",
       "<style scoped>\n",
       "    .dataframe tbody tr th:only-of-type {\n",
       "        vertical-align: middle;\n",
       "    }\n",
       "\n",
       "    .dataframe tbody tr th {\n",
       "        vertical-align: top;\n",
       "    }\n",
       "\n",
       "    .dataframe thead th {\n",
       "        text-align: right;\n",
       "    }\n",
       "</style>\n",
       "<table border=\"1\" class=\"dataframe\">\n",
       "  <thead>\n",
       "    <tr style=\"text-align: right;\">\n",
       "      <th></th>\n",
       "      <th>Media</th>\n",
       "      <th>Vol</th>\n",
       "    </tr>\n",
       "    <tr>\n",
       "      <th>Symbols</th>\n",
       "      <th></th>\n",
       "      <th></th>\n",
       "    </tr>\n",
       "  </thead>\n",
       "  <tbody>\n",
       "    <tr>\n",
       "      <th>AAPL</th>\n",
       "      <td>0.000976</td>\n",
       "      <td>0.015646</td>\n",
       "    </tr>\n",
       "    <tr>\n",
       "      <th>AMZN</th>\n",
       "      <td>0.001593</td>\n",
       "      <td>0.018426</td>\n",
       "    </tr>\n",
       "    <tr>\n",
       "      <th>BAC</th>\n",
       "      <td>0.000737</td>\n",
       "      <td>0.016196</td>\n",
       "    </tr>\n",
       "    <tr>\n",
       "      <th>BBY</th>\n",
       "      <td>0.001019</td>\n",
       "      <td>0.022053</td>\n",
       "    </tr>\n",
       "    <tr>\n",
       "      <th>CL</th>\n",
       "      <td>0.000149</td>\n",
       "      <td>0.010848</td>\n",
       "    </tr>\n",
       "    <tr>\n",
       "      <th>COST</th>\n",
       "      <td>0.000751</td>\n",
       "      <td>0.011760</td>\n",
       "    </tr>\n",
       "    <tr>\n",
       "      <th>DIS</th>\n",
       "      <td>0.000479</td>\n",
       "      <td>0.012541</td>\n",
       "    </tr>\n",
       "    <tr>\n",
       "      <th>EA</th>\n",
       "      <td>0.000850</td>\n",
       "      <td>0.019540</td>\n",
       "    </tr>\n",
       "    <tr>\n",
       "      <th>FB</th>\n",
       "      <td>0.000924</td>\n",
       "      <td>0.017776</td>\n",
       "    </tr>\n",
       "    <tr>\n",
       "      <th>GOOGL</th>\n",
       "      <td>0.000850</td>\n",
       "      <td>0.014977</td>\n",
       "    </tr>\n",
       "    <tr>\n",
       "      <th>KO</th>\n",
       "      <td>0.000387</td>\n",
       "      <td>0.008918</td>\n",
       "    </tr>\n",
       "    <tr>\n",
       "      <th>MSFT</th>\n",
       "      <td>0.001161</td>\n",
       "      <td>0.014686</td>\n",
       "    </tr>\n",
       "    <tr>\n",
       "      <th>NFLX</th>\n",
       "      <td>0.001829</td>\n",
       "      <td>0.026253</td>\n",
       "    </tr>\n",
       "    <tr>\n",
       "      <th>PFE</th>\n",
       "      <td>0.000386</td>\n",
       "      <td>0.011363</td>\n",
       "    </tr>\n",
       "    <tr>\n",
       "      <th>SBUX</th>\n",
       "      <td>0.000767</td>\n",
       "      <td>0.012988</td>\n",
       "    </tr>\n",
       "    <tr>\n",
       "      <th>^GSPC</th>\n",
       "      <td>0.000395</td>\n",
       "      <td>0.008466</td>\n",
       "    </tr>\n",
       "  </tbody>\n",
       "</table>\n",
       "</div>"
      ],
      "text/plain": [
       "            Media       Vol\n",
       "Symbols                    \n",
       "AAPL     0.000976  0.015646\n",
       "AMZN     0.001593  0.018426\n",
       "BAC      0.000737  0.016196\n",
       "BBY      0.001019  0.022053\n",
       "CL       0.000149  0.010848\n",
       "COST     0.000751  0.011760\n",
       "DIS      0.000479  0.012541\n",
       "EA       0.000850  0.019540\n",
       "FB       0.000924  0.017776\n",
       "GOOGL    0.000850  0.014977\n",
       "KO       0.000387  0.008918\n",
       "MSFT     0.001161  0.014686\n",
       "NFLX     0.001829  0.026253\n",
       "PFE      0.000386  0.011363\n",
       "SBUX     0.000767  0.012988\n",
       "^GSPC    0.000395  0.008466"
      ]
     },
     "execution_count": 54,
     "metadata": {},
     "output_type": "execute_result"
    }
   ],
   "source": [
    "# Resumen en base anual. \n",
    "ret_summary = pd.DataFrame({'Media': ret.mean(), 'Vol': ret.std()})\n",
    "ret_summary"
   ]
  },
  {
   "cell_type": "code",
   "execution_count": 55,
   "metadata": {},
   "outputs": [
    {
     "data": {
      "text/html": [
       "<div>\n",
       "<style scoped>\n",
       "    .dataframe tbody tr th:only-of-type {\n",
       "        vertical-align: middle;\n",
       "    }\n",
       "\n",
       "    .dataframe tbody tr th {\n",
       "        vertical-align: top;\n",
       "    }\n",
       "\n",
       "    .dataframe thead th {\n",
       "        text-align: right;\n",
       "    }\n",
       "</style>\n",
       "<table border=\"1\" class=\"dataframe\">\n",
       "  <thead>\n",
       "    <tr style=\"text-align: right;\">\n",
       "      <th></th>\n",
       "      <th>Media</th>\n",
       "      <th>Vol</th>\n",
       "    </tr>\n",
       "    <tr>\n",
       "      <th>Symbols</th>\n",
       "      <th></th>\n",
       "      <th></th>\n",
       "    </tr>\n",
       "  </thead>\n",
       "  <tbody>\n",
       "    <tr>\n",
       "      <th>AAPL</th>\n",
       "      <td>0.246032</td>\n",
       "      <td>0.248374</td>\n",
       "    </tr>\n",
       "    <tr>\n",
       "      <th>AMZN</th>\n",
       "      <td>0.401331</td>\n",
       "      <td>0.292501</td>\n",
       "    </tr>\n",
       "    <tr>\n",
       "      <th>BAC</th>\n",
       "      <td>0.185644</td>\n",
       "      <td>0.257098</td>\n",
       "    </tr>\n",
       "    <tr>\n",
       "      <th>BBY</th>\n",
       "      <td>0.256741</td>\n",
       "      <td>0.350074</td>\n",
       "    </tr>\n",
       "    <tr>\n",
       "      <th>CL</th>\n",
       "      <td>0.037465</td>\n",
       "      <td>0.172208</td>\n",
       "    </tr>\n",
       "    <tr>\n",
       "      <th>COST</th>\n",
       "      <td>0.189218</td>\n",
       "      <td>0.186678</td>\n",
       "    </tr>\n",
       "    <tr>\n",
       "      <th>DIS</th>\n",
       "      <td>0.120806</td>\n",
       "      <td>0.199080</td>\n",
       "    </tr>\n",
       "    <tr>\n",
       "      <th>EA</th>\n",
       "      <td>0.214214</td>\n",
       "      <td>0.310193</td>\n",
       "    </tr>\n",
       "    <tr>\n",
       "      <th>FB</th>\n",
       "      <td>0.232967</td>\n",
       "      <td>0.282188</td>\n",
       "    </tr>\n",
       "    <tr>\n",
       "      <th>GOOGL</th>\n",
       "      <td>0.214096</td>\n",
       "      <td>0.237758</td>\n",
       "    </tr>\n",
       "    <tr>\n",
       "      <th>KO</th>\n",
       "      <td>0.097417</td>\n",
       "      <td>0.141575</td>\n",
       "    </tr>\n",
       "    <tr>\n",
       "      <th>MSFT</th>\n",
       "      <td>0.292548</td>\n",
       "      <td>0.233130</td>\n",
       "    </tr>\n",
       "    <tr>\n",
       "      <th>NFLX</th>\n",
       "      <td>0.460873</td>\n",
       "      <td>0.416752</td>\n",
       "    </tr>\n",
       "    <tr>\n",
       "      <th>PFE</th>\n",
       "      <td>0.097198</td>\n",
       "      <td>0.180386</td>\n",
       "    </tr>\n",
       "    <tr>\n",
       "      <th>SBUX</th>\n",
       "      <td>0.193187</td>\n",
       "      <td>0.206171</td>\n",
       "    </tr>\n",
       "    <tr>\n",
       "      <th>^GSPC</th>\n",
       "      <td>0.099454</td>\n",
       "      <td>0.134390</td>\n",
       "    </tr>\n",
       "  </tbody>\n",
       "</table>\n",
       "</div>"
      ],
      "text/plain": [
       "            Media       Vol\n",
       "Symbols                    \n",
       "AAPL     0.246032  0.248374\n",
       "AMZN     0.401331  0.292501\n",
       "BAC      0.185644  0.257098\n",
       "BBY      0.256741  0.350074\n",
       "CL       0.037465  0.172208\n",
       "COST     0.189218  0.186678\n",
       "DIS      0.120806  0.199080\n",
       "EA       0.214214  0.310193\n",
       "FB       0.232967  0.282188\n",
       "GOOGL    0.214096  0.237758\n",
       "KO       0.097417  0.141575\n",
       "MSFT     0.292548  0.233130\n",
       "NFLX     0.460873  0.416752\n",
       "PFE      0.097198  0.180386\n",
       "SBUX     0.193187  0.206171\n",
       "^GSPC    0.099454  0.134390"
      ]
     },
     "execution_count": 55,
     "metadata": {},
     "output_type": "execute_result"
    }
   ],
   "source": [
    "#Ahora vamos a anualizar y reportar media y volatilidad en otro Data Frame\n",
    "annual_ret_summary = pd.DataFrame({'Media': 252*ret.mean(), 'Vol': np.sqrt(252) *ret.std()})\n",
    "annual_ret_summary"
   ]
  },
  {
   "cell_type": "markdown",
   "metadata": {},
   "source": [
    "### Podemos ver que tanto el rendimiento medio anual como la volatilidad anual del SP 500, son más pequeños que la mayor parte de las de las acciones que lo componen, por lo que podríamos decir que hay menos riesgo asociado al tenerlo"
   ]
  },
  {
   "cell_type": "markdown",
   "metadata": {},
   "source": [
    "## 4. Gráfico rendimientos esperados vs. volatilidad (40 puntos)\n",
    "\n",
    "Graficar los rendimientos medios anuales contra las desviaciones estándar del índice S&P 500 y de los demás activos. Como vimos en clase, la volatilidad debe ir en el eje $x$ y el rendimiento esperado en el eje $y$. Se deben etiquetar los ejes y dar detalles para un completo entendimiento de la gráfica.\n",
    "\n",
    "1. Gráfico (10 puntos).\n",
    "2. Ajuste una línea recta a los puntos obtenidos. Dar la ecuación (10 puntos).\n",
    "3. A partir del gráfico y de la línea recta ajustada, concluya acerca de la relación rendimiento/riesgo (específicamente acerca de $\\beta_0$ y $\\beta_1$) (20 puntos)."
   ]
  },
  {
   "cell_type": "code",
   "execution_count": 56,
   "metadata": {},
   "outputs": [],
   "source": [
    "from matplotlib import pyplot as plt"
   ]
  },
  {
   "cell_type": "code",
   "execution_count": 87,
   "metadata": {},
   "outputs": [
    {
     "data": {
      "text/plain": [
       "Text(0.5, 1.0, 'Rendimiento Esperado contra Volatilidad SP 500 y 15 Compañías')"
      ]
     },
     "execution_count": 87,
     "metadata": {},
     "output_type": "execute_result"
    },
    {
     "data": {
      "image/png": "[encoded data removed]",
      "text/plain": [
       "<Figure size 720x576 with 1 Axes>"
      ]
     },
     "metadata": {
      "needs_background": "light"
     },
     "output_type": "display_data"
    }
   ],
   "source": [
    "# Gráfico rendimiento esperado vs. volatilidad\n",
    "plt.figure(figsize=(10, 8));\n",
    "for i in range(len(annual_ret_summary)):\n",
    "    plt.plot(annual_ret_summary.iloc[i,1], annual_ret_summary.iloc[i, 0], '*g', ms=10)\n",
    "    plt.text(annual_ret_summary.iloc[i,1]+0.001, annual_ret_summary.iloc[i, 0]+.02, annual_ret_summary.index[i])\n",
    "\n",
    "\n",
    "plt.grid()\n",
    "\n",
    "plt.xlabel(\"Volatilidad $\\sigma$\")\n",
    "plt.ylabel(\"Rendimiento Esperado $E[r]$\")\n",
    "plt.title('Rendimiento Esperado contra Volatilidad SP 500 y 15 Compañías')"
   ]
  },
  {
   "cell_type": "code",
   "execution_count": 76,
   "metadata": {},
   "outputs": [],
   "source": [
    "# Importar el módulo optimize de la librería scipy\n",
    "from scipy.optimize import minimize"
   ]
  },
  {
   "cell_type": "code",
   "execution_count": 77,
   "metadata": {},
   "outputs": [],
   "source": [
    "# Funcion objetivo y condicion inicial\n",
    "def min_sq(beta, y, x):\n",
    "    f_hat = beta[0] + beta[1] * x\n",
    "    sum_sq = ((y - f_hat)**2).sum()\n",
    "    return sum_sq\n",
    "x0 = [0, 0]"
   ]
  },
  {
   "cell_type": "code",
   "execution_count": 78,
   "metadata": {},
   "outputs": [],
   "source": [
    "# Resolver problema de optimizacion\n",
    "resultado = minimize(fun=min_sq,\n",
    "                    x0=x0,\n",
    "                    args=(annual_ret_summary['Media'], \n",
    "                          annual_ret_summary['Vol']))\n"
   ]
  },
  {
   "cell_type": "code",
   "execution_count": 79,
   "metadata": {},
   "outputs": [
    {
     "data": {
      "text/plain": [
       "      fun: 0.057675294932481386\n",
       " hess_inv: array([[ 0.36041796, -1.36848382],\n",
       "       [-1.36848382,  5.68933858]])\n",
       "      jac: array([-9.31322575e-10,  1.86264515e-09])\n",
       "  message: 'Optimization terminated successfully.'\n",
       "     nfev: 24\n",
       "      nit: 4\n",
       "     njev: 6\n",
       "   status: 0\n",
       "  success: True\n",
       "        x: array([-0.08311842,  1.21320458])"
      ]
     },
     "execution_count": 79,
     "metadata": {},
     "output_type": "execute_result"
    }
   ],
   "source": [
    "resultado"
   ]
  },
  {
   "cell_type": "code",
   "execution_count": 80,
   "metadata": {},
   "outputs": [
    {
     "data": {
      "text/plain": [
       "array([-0.08311842,  1.21320458])"
      ]
     },
     "execution_count": 80,
     "metadata": {},
     "output_type": "execute_result"
    }
   ],
   "source": [
    "beta = resultado.x\n",
    "beta"
   ]
  },
  {
   "cell_type": "code",
   "execution_count": 90,
   "metadata": {},
   "outputs": [
    {
     "data": {
      "text/plain": [
       "Text(0.5, 1.0, 'Rendimiento Esperado contra Volatilidad SP 500 y 15 Compañías con mc ajustados')"
      ]
     },
     "execution_count": 90,
     "metadata": {},
     "output_type": "execute_result"
    },
    {
     "data": {
      "image/png": "[encoded data removed]",
      "text/plain": [
       "<Figure size 720x576 with 1 Axes>"
      ]
     },
     "metadata": {
      "needs_background": "light"
     },
     "output_type": "display_data"
    }
   ],
   "source": [
    "# Gráfico rendimiento esperado vs. volatilidad\n",
    "plt.figure(figsize=(10, 8));\n",
    "for i in range(len(annual_ret_summary)):\n",
    "    plt.plot(annual_ret_summary.iloc[i,1], annual_ret_summary.iloc[i, 0], '*g', ms=10)\n",
    "    plt.text(annual_ret_summary.iloc[i,1]+0.001, annual_ret_summary.iloc[i, 0]+.01, annual_ret_summary.index[i])\n",
    "\n",
    "x = np.linspace(0.1, 0.45)\n",
    "plt.plot(x, beta[0] + beta[1] * x, \"-b\", lw = 3, label = \"Recta min. cuadr.\")\n",
    "\n",
    "plt.grid()\n",
    "plt.legend(loc='best')\n",
    "\n",
    "plt.xlabel(\"Volatilidad $\\sigma$\")\n",
    "plt.ylabel(\"Rendimiento Esperado $E[r]$\")\n",
    "plt.title('Rendimiento Esperado contra Volatilidad SP 500 y 15 Compañías con mc ajustados')"
   ]
  },
  {
   "cell_type": "markdown",
   "metadata": {},
   "source": [
    "**¿Qué se puede concluir acerca de la relación entre riesgo (medido con la volatilidad) y el rendimiento esperado (medido con la media)?**\n",
    "$$\\beta_0 = -0.08311842$$ \n",
    "$$\\beta_1 = 1.21320458$$ \n",
    "Respuestas:\n",
    "- La pendiente de la recta es positiva, lo que confirma la relación positiva entre rendimiento esperado y riesgo\n",
    "- Si el mercado solo estuviera afectado por los 16 activos analizados, la tasa libre de riesgo sería de $-8.3\\%$ anual\n",
    "- Por cada unidad de riesgo (volatilidad) el rendimiento esperado aumenta en un $121\\%$"
   ]
  },
  {
   "cell_type": "markdown",
   "metadata": {},
   "source": [
    "<script>\n",
    "  $(document).ready(function(){\n",
    "    $('div.prompt').hide();\n",
    "    $('div.back-to-top').hide();\n",
    "    $('nav#menubar').hide();\n",
    "    $('.breadcrumb').hide();\n",
    "    $('.hidden-print').hide();\n",
    "  });\n",
    "</script>\n",
    "\n",
    "<footer id=\"attribution\" style=\"float:right; color:#808080; background:#fff;\">\n",
    "Created with Jupyter by Esteban Jiménez Rodríguez.\n",
    "</footer>"
   ]
  }
 ],
 "metadata": {
  "kernelspec": {
   "display_name": "Python 3",
   "language": "python",
   "name": "python3"
  },
  "language_info": {
   "codemirror_mode": {
    "name": "ipython",
    "version": 3
   },
   "file_extension": ".py",
   "mimetype": "text/x-python",
   "name": "python",
   "nbconvert_exporter": "python",
   "pygments_lexer": "ipython3",
   "version": "3.7.1"
  }
 },
 "nbformat": 4,
 "nbformat_minor": 2
}
