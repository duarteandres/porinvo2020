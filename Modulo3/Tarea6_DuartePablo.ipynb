{
 "cells": [
  {
   "cell_type": "markdown",
   "metadata": {},
   "source": [
    "# Tarea 6. Distribución óptima de capital y selección de portafolios.\n",
    "\n",
    "<img style=\"float: right; margin: 0px 0px 15px 15px;\" src=\"https://upload.wikimedia.org/wikipedia/en/f/f3/SML-chart.png\" width=\"400px\" height=\"400px\" />\n",
    "\n",
    "**Resumen.**\n",
    "> En esta tarea, tendrás la oportunidad de aplicar los conceptos y las herramientas que aprendimos en el módulo 3. Específicamente, utilizarás técnicas de optimización media-varianza para construir la frontera de mínima varianza, encontrar el mejor portafolio sobre la frontera mínima varianza, y finalmente, identificar la asignación óptima de capital para un inversionista dado su nivel de averisón al riesgo.\n",
    "\n",
    "**Criterio de revisión.**\n",
    "> Se te calificará de acuerdo a los resultados finales que reportes, basados en tu análisis.\n",
    "\n",
    "**Antes de comenzar.**\n",
    "> Por favor, copiar y pegar este archivo en otra ubicación. Antes de comenzar, nombrarlo *Tarea6_ApellidoNombre*, sin acentos y sin espacios; por ejemplo, en mi caso el archivo se llamaría *Tarea6_JimenezEsteban*. Resolver todos los puntos en dicho archivo y subir en este espacio."
   ]
  },
  {
   "cell_type": "markdown",
   "metadata": {},
   "source": [
    "## 1. Datos (10 puntos)\n",
    "\n",
    "Considere los siguientes datos de bonos, índice de acciones, mercados desarrollados, mercados emergentes, fondos privados, activos reales y activos libres de riesgo:"
   ]
  },
  {
   "cell_type": "code",
   "execution_count": 6,
   "metadata": {},
   "outputs": [],
   "source": [
    "# Importamos pandas y numpy\n",
    "import pandas as pd\n",
    "import numpy as np\n",
    "import matplotlib.pyplot as plt"
   ]
  },
  {
   "cell_type": "code",
   "execution_count": 2,
   "metadata": {},
   "outputs": [
    {
     "data": {
      "text/html": [
       "<div>\n",
       "<style scoped>\n",
       "    .dataframe tbody tr th:only-of-type {\n",
       "        vertical-align: middle;\n",
       "    }\n",
       "\n",
       "    .dataframe tbody tr th {\n",
       "        vertical-align: top;\n",
       "    }\n",
       "\n",
       "    .dataframe thead th {\n",
       "        text-align: right;\n",
       "    }\n",
       "</style>\n",
       "<table border=\"1\" class=\"dataframe\">\n",
       "  <thead>\n",
       "    <tr style=\"text-align: right;\">\n",
       "      <th></th>\n",
       "      <th>Bonos</th>\n",
       "      <th>Acciones</th>\n",
       "      <th>Desarrollado</th>\n",
       "      <th>Emergente</th>\n",
       "      <th>Privados</th>\n",
       "      <th>Real</th>\n",
       "      <th>Libre_riesgo</th>\n",
       "    </tr>\n",
       "  </thead>\n",
       "  <tbody>\n",
       "    <tr>\n",
       "      <th>Media</th>\n",
       "      <td>0.04</td>\n",
       "      <td>0.106</td>\n",
       "      <td>0.083</td>\n",
       "      <td>0.119</td>\n",
       "      <td>0.128</td>\n",
       "      <td>0.062</td>\n",
       "      <td>0.03</td>\n",
       "    </tr>\n",
       "    <tr>\n",
       "      <th>Volatilidad</th>\n",
       "      <td>0.068</td>\n",
       "      <td>0.224</td>\n",
       "      <td>0.221</td>\n",
       "      <td>0.3</td>\n",
       "      <td>0.231</td>\n",
       "      <td>0.068</td>\n",
       "      <td>None</td>\n",
       "    </tr>\n",
       "  </tbody>\n",
       "</table>\n",
       "</div>"
      ],
      "text/plain": [
       "             Bonos Acciones Desarrollado Emergente Privados   Real  \\\n",
       "Media         0.04    0.106        0.083     0.119    0.128  0.062   \n",
       "Volatilidad  0.068    0.224        0.221       0.3    0.231  0.068   \n",
       "\n",
       "            Libre_riesgo  \n",
       "Media               0.03  \n",
       "Volatilidad         None  "
      ]
     },
     "execution_count": 2,
     "metadata": {},
     "output_type": "execute_result"
    }
   ],
   "source": [
    "# Resumen en base anual de rendimientos esperados y volatilidades\n",
    "annual_ret_summ = pd.DataFrame(columns=['Bonos', 'Acciones', 'Desarrollado', 'Emergente', 'Privados', 'Real', 'Libre_riesgo'], index=['Media', 'Volatilidad'])\n",
    "annual_ret_summ.loc['Media'] = np.array([0.0400, 0.1060, 0.0830, 0.1190, 0.1280, 0.0620, 0.0300])\n",
    "annual_ret_summ.loc['Volatilidad'] = np.array([0.0680, 0.2240, 0.2210, 0.3000, 0.2310, 0.0680, None])\n",
    "\n",
    "annual_ret_summ.round(4)"
   ]
  },
  {
   "cell_type": "code",
   "execution_count": 3,
   "metadata": {},
   "outputs": [
    {
     "data": {
      "text/html": [
       "<div>\n",
       "<style scoped>\n",
       "    .dataframe tbody tr th:only-of-type {\n",
       "        vertical-align: middle;\n",
       "    }\n",
       "\n",
       "    .dataframe tbody tr th {\n",
       "        vertical-align: top;\n",
       "    }\n",
       "\n",
       "    .dataframe thead th {\n",
       "        text-align: right;\n",
       "    }\n",
       "</style>\n",
       "<table border=\"1\" class=\"dataframe\">\n",
       "  <thead>\n",
       "    <tr style=\"text-align: right;\">\n",
       "      <th></th>\n",
       "      <th>Bonos</th>\n",
       "      <th>Acciones</th>\n",
       "      <th>Desarrollado</th>\n",
       "      <th>Emergente</th>\n",
       "      <th>Privados</th>\n",
       "      <th>Real</th>\n",
       "    </tr>\n",
       "  </thead>\n",
       "  <tbody>\n",
       "    <tr>\n",
       "      <th>Bonos</th>\n",
       "      <td>1.00</td>\n",
       "      <td>0.4</td>\n",
       "      <td>0.25</td>\n",
       "      <td>0.20</td>\n",
       "      <td>0.15</td>\n",
       "      <td>0.20</td>\n",
       "    </tr>\n",
       "    <tr>\n",
       "      <th>Acciones</th>\n",
       "      <td>0.40</td>\n",
       "      <td>1.0</td>\n",
       "      <td>0.70</td>\n",
       "      <td>0.60</td>\n",
       "      <td>0.70</td>\n",
       "      <td>0.20</td>\n",
       "    </tr>\n",
       "    <tr>\n",
       "      <th>Desarrollado</th>\n",
       "      <td>0.25</td>\n",
       "      <td>0.7</td>\n",
       "      <td>1.00</td>\n",
       "      <td>0.75</td>\n",
       "      <td>0.60</td>\n",
       "      <td>0.10</td>\n",
       "    </tr>\n",
       "    <tr>\n",
       "      <th>Emergente</th>\n",
       "      <td>0.20</td>\n",
       "      <td>0.6</td>\n",
       "      <td>0.75</td>\n",
       "      <td>1.00</td>\n",
       "      <td>0.25</td>\n",
       "      <td>0.15</td>\n",
       "    </tr>\n",
       "    <tr>\n",
       "      <th>Privados</th>\n",
       "      <td>0.15</td>\n",
       "      <td>0.7</td>\n",
       "      <td>0.60</td>\n",
       "      <td>0.25</td>\n",
       "      <td>1.00</td>\n",
       "      <td>0.30</td>\n",
       "    </tr>\n",
       "    <tr>\n",
       "      <th>Real</th>\n",
       "      <td>0.20</td>\n",
       "      <td>0.2</td>\n",
       "      <td>0.10</td>\n",
       "      <td>0.15</td>\n",
       "      <td>0.30</td>\n",
       "      <td>1.00</td>\n",
       "    </tr>\n",
       "  </tbody>\n",
       "</table>\n",
       "</div>"
      ],
      "text/plain": [
       "              Bonos  Acciones  Desarrollado  Emergente  Privados  Real\n",
       "Bonos          1.00       0.4          0.25       0.20      0.15  0.20\n",
       "Acciones       0.40       1.0          0.70       0.60      0.70  0.20\n",
       "Desarrollado   0.25       0.7          1.00       0.75      0.60  0.10\n",
       "Emergente      0.20       0.6          0.75       1.00      0.25  0.15\n",
       "Privados       0.15       0.7          0.60       0.25      1.00  0.30\n",
       "Real           0.20       0.2          0.10       0.15      0.30  1.00"
      ]
     },
     "execution_count": 3,
     "metadata": {},
     "output_type": "execute_result"
    }
   ],
   "source": [
    "# Matriz de correlación\n",
    "corr = pd.DataFrame(data= np.array([[1.0000, 0.4000, 0.2500, 0.2000, 0.1500, 0.2000],\n",
    "                                    [0.4000, 1.0000, 0.7000, 0.6000, 0.7000, 0.2000],\n",
    "                                    [0.2500, 0.7000, 1.0000, 0.7500, 0.6000, 0.1000],\n",
    "                                    [0.2000, 0.6000, 0.7500, 1.0000, 0.2500, 0.1500],\n",
    "                                    [0.1500, 0.7000, 0.6000, 0.2500, 1.0000, 0.3000],\n",
    "                                    [0.2000, 0.2000, 0.1000, 0.1500, 0.3000, 1.0000]]),\n",
    "                    columns=annual_ret_summ.columns[:-1], index=annual_ret_summ.columns[:-1])\n",
    "corr.round(4)"
   ]
  },
  {
   "cell_type": "markdown",
   "metadata": {},
   "source": [
    "1. Graficar en el espacio de rendimiento esperado contra volatilidad cada uno de los activos (10 puntos)."
   ]
  },
  {
   "cell_type": "code",
   "execution_count": 21,
   "metadata": {},
   "outputs": [],
   "source": [
    "# Activos\n",
    "E1 = annual_ret_summ.loc['Media','Bonos']\n",
    "E2 = annual_ret_summ.loc['Media','Acciones']\n",
    "E3 = annual_ret_summ.loc['Media','Desarrollado']\n",
    "E4 = annual_ret_summ.loc['Media','Emergente']\n",
    "E5 = annual_ret_summ.loc['Media','Privados']\n",
    "E6 = annual_ret_summ.loc['Media','Real']\n",
    "E7 = annual_ret_summ.iloc[0,6]\n",
    "# Volatilidades individuales\n",
    "s1 = annual_ret_summ.loc['Volatilidad','Bonos']\n",
    "s2 = annual_ret_summ.loc['Volatilidad','Acciones']\n",
    "s3 = annual_ret_summ.loc['Volatilidad','Desarrollado']\n",
    "s4 = annual_ret_summ.loc['Volatilidad','Emergente']\n",
    "s5 = annual_ret_summ.loc['Volatilidad','Privados']\n",
    "s6 = annual_ret_summ.loc['Volatilidad','Real']\n",
    "s7 = 0"
   ]
  },
  {
   "cell_type": "code",
   "execution_count": 25,
   "metadata": {},
   "outputs": [
    {
     "data": {
      "text/plain": [
       "Text(0, 0.5, 'Rendimiento Esperado $\\\\E[r]')"
      ]
     },
     "execution_count": 25,
     "metadata": {},
     "output_type": "execute_result"
    },
    {
     "data": {
      "image/png": "[encoded data removed]",
      "text/plain": [
       "<Figure size 432x288 with 1 Axes>"
      ]
     },
     "metadata": {
      "needs_background": "light"
     },
     "output_type": "display_data"
    }
   ],
   "source": [
    "plt.plot(s1, E1, 'ob', ms=5, label='Índice Bonos')\n",
    "plt.plot(s2, E2, 'or', ms=5, label='Índice Acciones')\n",
    "plt.plot(s3, E3, 'oc', ms=5, label='Índice Desarrollado')\n",
    "plt.plot(s4, E4, 'ok', ms=5, label='Índice Emergente')\n",
    "plt.plot(s5, E5, 'om', ms=5, label='Índice Privados')\n",
    "plt.plot(s6, E6, 'oy', ms=5, label='Índice Real')\n",
    "plt.plot(s7, E7, 'og', ms=5, label='Índice Libre riesgo')\n",
    "plt.grid()\n",
    "plt.legend(loc='best')\n",
    "plt.title('Rendimiento contra Volatilidad')\n",
    "plt.xlabel('Volatilidad $\\sigma')\n",
    "plt.ylabel('Rendimiento Esperado $\\E[r]')"
   ]
  },
  {
   "cell_type": "markdown",
   "metadata": {},
   "source": [
    "## 2. Hallando portafolios sobre la frontera de mínima varianza (35 puntos)\n",
    "\n",
    "Usando los datos del punto anterior:\n",
    "\n",
    "1. Halle los pesos del portafolio de mínima varianza considerando todos los activos riesgosos. También reportar claramente el rendimiento esperado, volatilidad y cociente de Sharpe para dicho portafolio (15 puntos).\n",
    "2. Halle los pesos del portafolio EMV considerando todos los activos riesgosos. También reportar claramente el rendimiento esperado, volatilidad y cociente de Sharpe para dicho portafolio (15 puntos).\n",
    "3. Halle la covarianza y la correlación entre los dos portafolios hallados (5 puntos)"
   ]
  },
  {
   "cell_type": "markdown",
   "metadata": {},
   "source": [
    "\n",
    "1. Halle los pesos del portafolio de mínima varianza considerando todos los activos riesgosos. También reportar claramente el rendimiento esperado, volatilidad y cociente de Sharpe para dicho portafolio (15 puntos)."
   ]
  },
  {
   "cell_type": "code",
   "execution_count": 26,
   "metadata": {},
   "outputs": [],
   "source": [
    "# Importamos funcion minimize del modulo optimize de scipy\n",
    "from scipy.optimize import minimize"
   ]
  },
  {
   "cell_type": "code",
   "execution_count": null,
   "metadata": {},
   "outputs": [],
   "source": [
    "rf = 0.03\n",
    "\n",
    "annual_ret_summ = annual_ret_summ.drop(columns=['Libre_riesgo'])"
   ]
  },
  {
   "cell_type": "code",
   "execution_count": 64,
   "metadata": {},
   "outputs": [],
   "source": [
    "\n",
    "## Construcción de parámetros\n",
    "# 1. Sigma: matriz de varianza-covarianza Sigma = S.dot(corr).dot(S)\n",
    "S = np.diag(annual_ret_summ.loc['Volatilidad'].values)\n",
    "Sigma = S.dot(corr).dot(S)\n",
    "# 2. Eind: rendimientos esperados activos individuales\n",
    "Eind = annual_ret_summ.loc['Media'].values"
   ]
  },
  {
   "cell_type": "code",
   "execution_count": 51,
   "metadata": {},
   "outputs": [],
   "source": [
    "# Función objetivo\n",
    "def var(w, Sigma):\n",
    "    return w.T.dot(Sigma).dot(w)"
   ]
  },
  {
   "cell_type": "code",
   "execution_count": 52,
   "metadata": {},
   "outputs": [],
   "source": [
    "# Número de activos\n",
    "N = len(Eind)\n",
    "# Dato inicial\n",
    "w0 = np.ones(N)/N\n",
    "# Cotas de las variables\n",
    "bnds = ((0, 1), ) * N\n",
    "# Restricciones\n",
    "cons = {'type': 'eq', 'fun': lambda w: w.sum() - 1}"
   ]
  },
  {
   "cell_type": "code",
   "execution_count": 53,
   "metadata": {},
   "outputs": [
    {
     "data": {
      "text/plain": [
       "     fun: 0.0027745037325952863\n",
       "     jac: array([0.00551408, 0.00912289, 0.00525779, 0.00714968, 0.00710235,\n",
       "       0.0055834 ])\n",
       " message: 'Optimization terminated successfully.'\n",
       "    nfev: 64\n",
       "     nit: 8\n",
       "    njev: 8\n",
       "  status: 0\n",
       " success: True\n",
       "       x: array([4.95146500e-01, 0.00000000e+00, 2.09837058e-04, 4.33680869e-19,\n",
       "       0.00000000e+00, 5.04643663e-01])"
      ]
     },
     "execution_count": 53,
     "metadata": {},
     "output_type": "execute_result"
    }
   ],
   "source": [
    "# Portafolio de mínima varianza\n",
    "minvar = minimize(fun=var,\n",
    "                  x0=w0,\n",
    "                  args=(Sigma,),\n",
    "                  bounds=bnds,\n",
    "                  constraints=cons)\n",
    "minvar"
   ]
  },
  {
   "cell_type": "code",
   "execution_count": 54,
   "metadata": {},
   "outputs": [
    {
     "data": {
      "text/plain": [
       "(array([4.95146500e-01, 0.00000000e+00, 2.09837058e-04, 4.33680869e-19,\n",
       "        0.00000000e+00, 5.04643663e-01]),\n",
       " 0.0511111835712562,\n",
       " 0.0526735581918982,\n",
       " 0.4007928132431225)"
      ]
     },
     "execution_count": 54,
     "metadata": {},
     "output_type": "execute_result"
    }
   ],
   "source": [
    "# Pesos, rendimiento y riesgo del portafolio de mínima varianza\n",
    "w_minvar = minvar.x\n",
    "E_minvar = Eind.T.dot(w_minvar)\n",
    "s_minvar = var(w_minvar, Sigma)**0.5\n",
    "RS_minvar = (E_minvar - rf) / s_minvar\n",
    "w_minvar, E_minvar, s_minvar, RS_minvar"
   ]
  },
  {
   "cell_type": "markdown",
   "metadata": {},
   "source": [
    "2. Halle los pesos del portafolio EMV considerando todos los activos riesgosos. También reportar claramente el rendimiento esperado, volatilidad y cociente de Sharpe para dicho portafolio (15 puntos)."
   ]
  },
  {
   "cell_type": "code",
   "execution_count": 55,
   "metadata": {},
   "outputs": [],
   "source": [
    "# Función objetivo\n",
    "def menos_RS(w, Eind, rf, Sigma):\n",
    "    E_port = Eind.T.dot(w)\n",
    "    s_port = var(w, Sigma)**0.5\n",
    "    RS = (E_port - rf) / s_port\n",
    "    return - RS"
   ]
  },
  {
   "cell_type": "code",
   "execution_count": 56,
   "metadata": {},
   "outputs": [],
   "source": [
    "# Número de activos\n",
    "N = len(Eind)\n",
    "# Dato inicial\n",
    "w0 = np.ones(N)/N\n",
    "# Cotas de las variables\n",
    "bnds = ((0, 1), ) * N\n",
    "# Restricciones\n",
    "cons = {'type': 'eq', 'fun': lambda w: w.sum() - 1}"
   ]
  },
  {
   "cell_type": "code",
   "execution_count": 57,
   "metadata": {},
   "outputs": [
    {
     "data": {
      "text/plain": [
       "     fun: -0.5811986201269204\n",
       "     jac: array([-0.36522095, -0.28920724, -0.12258474, -0.36597763, -0.36617207,\n",
       "       -0.36620118])\n",
       " message: 'Optimization terminated successfully.'\n",
       "    nfev: 50\n",
       "     nit: 6\n",
       "    njev: 6\n",
       "  status: 0\n",
       " success: True\n",
       "       x: array([1.34289953e-17, 1.01738175e-16, 1.23637069e-16, 8.19187951e-02,\n",
       "       1.65859031e-01, 7.52222174e-01])"
      ]
     },
     "execution_count": 57,
     "metadata": {},
     "output_type": "execute_result"
    }
   ],
   "source": [
    "# Portafolio EMV\n",
    "emv = minimize(fun=menos_RS,\n",
    "                  x0=w0,\n",
    "                  args=(Eind, rf, Sigma),\n",
    "                  bounds=bnds,\n",
    "                  constraints=cons)\n",
    "emv"
   ]
  },
  {
   "cell_type": "code",
   "execution_count": 58,
   "metadata": {},
   "outputs": [
    {
     "data": {
      "text/plain": [
       "(array([1.34289953e-17, 1.01738175e-16, 1.23637069e-16, 8.19187951e-02,\n",
       "        1.65859031e-01, 7.52222174e-01]),\n",
       " 0.0776160673678556,\n",
       " 0.0819273579098611,\n",
       " 0.5811986201269204)"
      ]
     },
     "execution_count": 58,
     "metadata": {},
     "output_type": "execute_result"
    }
   ],
   "source": [
    "# Pesos, rendimiento y riesgo del portafolio EMV\n",
    "w_emv = emv.x\n",
    "E_emv = Eind.T.dot(w_emv)\n",
    "s_emv = var(w_emv, Sigma)**0.5\n",
    "RS_emv = (E_emv - rf) / s_emv\n",
    "w_emv, E_emv, s_emv, RS_emv"
   ]
  },
  {
   "cell_type": "code",
   "execution_count": 59,
   "metadata": {},
   "outputs": [
    {
     "data": {
      "text/plain": [
       "(array([4.95146500e-01, 0.00000000e+00, 2.09837058e-04, 4.33680869e-19,\n",
       "        0.00000000e+00, 5.04643663e-01]),\n",
       " 0.0511111835712562,\n",
       " 0.0526735581918982,\n",
       " 0.4007928132431225)"
      ]
     },
     "execution_count": 59,
     "metadata": {},
     "output_type": "execute_result"
    }
   ],
   "source": [
    "w_minvar, E_minvar, s_minvar, RS_minvar"
   ]
  },
  {
   "cell_type": "code",
   "execution_count": 60,
   "metadata": {},
   "outputs": [
    {
     "data": {
      "text/plain": [
       "Index(['Bonos', 'Acciones', 'Desarrollado', 'Emergente', 'Privados', 'Real'], dtype='object')"
      ]
     },
     "execution_count": 60,
     "metadata": {},
     "output_type": "execute_result"
    }
   ],
   "source": [
    "annual_ret_summ.columns"
   ]
  },
  {
   "cell_type": "markdown",
   "metadata": {},
   "source": [
    "3. Halle la covarianza y la correlación entre los dos portafolios hallados (5 puntos)"
   ]
  },
  {
   "cell_type": "code",
   "execution_count": 61,
   "metadata": {},
   "outputs": [
    {
     "data": {
      "text/plain": [
       "0.00298181903668825"
      ]
     },
     "execution_count": 61,
     "metadata": {},
     "output_type": "execute_result"
    }
   ],
   "source": [
    "# Covarianza entre los portafolios\n",
    "cov_emv_minvar = w_emv.T.dot(Sigma).dot(w_minvar)\n",
    "cov_emv_minvar"
   ]
  },
  {
   "cell_type": "code",
   "execution_count": 62,
   "metadata": {},
   "outputs": [
    {
     "data": {
      "text/plain": [
       "0.6909707716261658"
      ]
     },
     "execution_count": 62,
     "metadata": {},
     "output_type": "execute_result"
    }
   ],
   "source": [
    "# Correlación entre los portafolios\n",
    "corr_emv_minvar = cov_emv_minvar / (s_emv * s_minvar)\n",
    "corr_emv_minvar"
   ]
  },
  {
   "cell_type": "markdown",
   "metadata": {},
   "source": [
    "## 3. Frontera de mínima varianza y LAC (30 puntos)\n",
    "\n",
    "Con los portafolios que se encontraron en el punto anterior (de mínima varianza y EMV):\n",
    "\n",
    "1. Construya la frontera de mínima varianza calculando el rendimiento esperado y volatilidad para varias combinaciones de los anteriores portafolios. Reportar dichas combinaciones en un DataFrame incluyendo pesos, rendimiento, volatilidad y cociente de Sharpe (15 puntos).\n",
    "2. También construya la línea de asignación de capital entre el activo libre de riesgo y el portafolio EMV. Reportar las combinaciones de estos activos en un DataFrame incluyendo pesos, rendimiento, volatilidad y cociente de Sharpe (15 puntos)."
   ]
  },
  {
   "cell_type": "code",
   "execution_count": 82,
   "metadata": {},
   "outputs": [],
   "source": [
    "# Vector de w\n",
    "w_p = np.linspace(0, 4)"
   ]
  },
  {
   "cell_type": "code",
   "execution_count": 83,
   "metadata": {},
   "outputs": [
    {
     "data": {
      "text/html": [
       "<div>\n",
       "<style scoped>\n",
       "    .dataframe tbody tr th:only-of-type {\n",
       "        vertical-align: middle;\n",
       "    }\n",
       "\n",
       "    .dataframe tbody tr th {\n",
       "        vertical-align: top;\n",
       "    }\n",
       "\n",
       "    .dataframe thead th {\n",
       "        text-align: right;\n",
       "    }\n",
       "</style>\n",
       "<table border=\"1\" class=\"dataframe\">\n",
       "  <thead>\n",
       "    <tr style=\"text-align: right;\">\n",
       "      <th></th>\n",
       "      <th>W</th>\n",
       "      <th>Media</th>\n",
       "      <th>Vol</th>\n",
       "      <th>RS</th>\n",
       "    </tr>\n",
       "  </thead>\n",
       "  <tbody>\n",
       "    <tr>\n",
       "      <th>0</th>\n",
       "      <td>0.000000</td>\n",
       "      <td>0.051111</td>\n",
       "      <td>0.052674</td>\n",
       "      <td>0.400793</td>\n",
       "    </tr>\n",
       "    <tr>\n",
       "      <th>1</th>\n",
       "      <td>0.081633</td>\n",
       "      <td>0.053275</td>\n",
       "      <td>0.053215</td>\n",
       "      <td>0.437374</td>\n",
       "    </tr>\n",
       "    <tr>\n",
       "      <th>2</th>\n",
       "      <td>0.163265</td>\n",
       "      <td>0.055439</td>\n",
       "      <td>0.054186</td>\n",
       "      <td>0.469468</td>\n",
       "    </tr>\n",
       "    <tr>\n",
       "      <th>3</th>\n",
       "      <td>0.244898</td>\n",
       "      <td>0.057602</td>\n",
       "      <td>0.055564</td>\n",
       "      <td>0.496765</td>\n",
       "    </tr>\n",
       "    <tr>\n",
       "      <th>4</th>\n",
       "      <td>0.326531</td>\n",
       "      <td>0.059766</td>\n",
       "      <td>0.057319</td>\n",
       "      <td>0.519297</td>\n",
       "    </tr>\n",
       "  </tbody>\n",
       "</table>\n",
       "</div>"
      ],
      "text/plain": [
       "          W     Media       Vol        RS\n",
       "0  0.000000  0.051111  0.052674  0.400793\n",
       "1  0.081633  0.053275  0.053215  0.437374\n",
       "2  0.163265  0.055439  0.054186  0.469468\n",
       "3  0.244898  0.057602  0.055564  0.496765\n",
       "4  0.326531  0.059766  0.057319  0.519297"
      ]
     },
     "execution_count": 83,
     "metadata": {},
     "output_type": "execute_result"
    }
   ],
   "source": [
    "# DataFrame de portafolios: \n",
    "# 1. Índice: i\n",
    "# 2. Columnas 1-2: w, 1-w\n",
    "# 3. Columnas 3-4: E[r], sigma\n",
    "# 4. Columna 5: Sharpe ratio\n",
    "frontera = pd.DataFrame(data={'W': w_p,\n",
    "                              'Media': w_p * E_emv + (1 - w_p) * E_minvar,\n",
    "                              'Vol': ((w_p * s_emv)**2 + ((1 - w_p) * s_minvar)**2 + 2 * w_p * (1 - w_p) * cov_emv_minvar)**0.5})\n",
    "frontera['RS'] = (frontera['Media'] - rf) /frontera['Vol']\n",
    "frontera.head()"
   ]
  },
  {
   "cell_type": "code",
   "execution_count": 69,
   "metadata": {},
   "outputs": [],
   "source": [
    "sp = np.linspace(0, 0.2)\n"
   ]
  },
  {
   "cell_type": "code",
   "execution_count": 71,
   "metadata": {},
   "outputs": [
    {
     "data": {
      "text/html": [
       "<div>\n",
       "<style scoped>\n",
       "    .dataframe tbody tr th:only-of-type {\n",
       "        vertical-align: middle;\n",
       "    }\n",
       "\n",
       "    .dataframe tbody tr th {\n",
       "        vertical-align: top;\n",
       "    }\n",
       "\n",
       "    .dataframe thead th {\n",
       "        text-align: right;\n",
       "    }\n",
       "</style>\n",
       "<table border=\"1\" class=\"dataframe\">\n",
       "  <thead>\n",
       "    <tr style=\"text-align: right;\">\n",
       "      <th></th>\n",
       "      <th>Vol</th>\n",
       "      <th>Media</th>\n",
       "      <th>RS</th>\n",
       "    </tr>\n",
       "  </thead>\n",
       "  <tbody>\n",
       "    <tr>\n",
       "      <th>0</th>\n",
       "      <td>0.000000</td>\n",
       "      <td>0.030000</td>\n",
       "      <td>NaN</td>\n",
       "    </tr>\n",
       "    <tr>\n",
       "      <th>1</th>\n",
       "      <td>0.004082</td>\n",
       "      <td>0.032372</td>\n",
       "      <td>0.581199</td>\n",
       "    </tr>\n",
       "    <tr>\n",
       "      <th>2</th>\n",
       "      <td>0.008163</td>\n",
       "      <td>0.034744</td>\n",
       "      <td>0.581199</td>\n",
       "    </tr>\n",
       "    <tr>\n",
       "      <th>3</th>\n",
       "      <td>0.012245</td>\n",
       "      <td>0.037117</td>\n",
       "      <td>0.581199</td>\n",
       "    </tr>\n",
       "    <tr>\n",
       "      <th>4</th>\n",
       "      <td>0.016327</td>\n",
       "      <td>0.039489</td>\n",
       "      <td>0.581199</td>\n",
       "    </tr>\n",
       "  </tbody>\n",
       "</table>\n",
       "</div>"
      ],
      "text/plain": [
       "        Vol     Media        RS\n",
       "0  0.000000  0.030000       NaN\n",
       "1  0.004082  0.032372  0.581199\n",
       "2  0.008163  0.034744  0.581199\n",
       "3  0.012245  0.037117  0.581199\n",
       "4  0.016327  0.039489  0.581199"
      ]
     },
     "execution_count": 71,
     "metadata": {},
     "output_type": "execute_result"
    }
   ],
   "source": [
    "LAC = pd.DataFrame(data={'Vol': sp,\n",
    "                         'Media': RS_emv * sp + rf})\n",
    "LAC['RS'] = (LAC['Media'] - rf) /LAC['Vol']\n",
    "LAC.head()"
   ]
  },
  {
   "cell_type": "markdown",
   "metadata": {},
   "source": [
    "## 4. Gráficos y conclusiones (25 puntos)\n",
    "\n",
    "1. Usando todos los datos obtenidos, grafique:\n",
    " - los activos individuales,\n",
    " - portafolio de mínima varianza,\n",
    " - portafolio eficiente en media-varianza (EMV),\n",
    " - frontera de mínima varianza, y\n",
    " - línea de asignación de capital,\n",
    "en el espacio de rendimiento (eje $y$) vs. volatilidad (eje $x$). Asegúrese de etiquetar todo y poner distintos colores para diferenciar los distintos elementos en su gráfico (15 puntos).\n",
    "2. Suponga que usted está aconsejando a un cliente cuyo coeficiente de aversión al riesgo resultó ser 4. ¿Qué asignación de capital le sugeriría?, ¿qué significa su resultado?(10 puntos)"
   ]
  },
  {
   "cell_type": "code",
   "execution_count": 75,
   "metadata": {},
   "outputs": [],
   "source": [
    "from matplotlib import pyplot as plt\n",
    "%matplotlib inline"
   ]
  },
  {
   "cell_type": "code",
   "execution_count": 84,
   "metadata": {},
   "outputs": [
    {
     "data": {
      "text/plain": [
       "<matplotlib.legend.Legend at 0x2814bcba860>"
      ]
     },
     "execution_count": 84,
     "metadata": {},
     "output_type": "execute_result"
    },
    {
     "data": {
      "image/png": "[encoded data removed]",
      "text/plain": [
       "<Figure size 720x432 with 2 Axes>"
      ]
     },
     "metadata": {
      "needs_background": "light"
     },
     "output_type": "display_data"
    }
   ],
   "source": [
    "# Gráfica de dispersión de puntos coloreando \n",
    "# de acuerdo a SR, los activos individuales\n",
    "# y los portafolios hallados\n",
    "plt.figure(figsize=(10, 6))\n",
    "# Frontera\n",
    "ax = plt.subplot(121) #\n",
    "plt.scatter(frontera['Vol'], frontera['Media'], c = frontera['RS'], cmap='RdYlBu', label = 'Frontera de minima varianza')\n",
    "plt.colorbar()\n",
    "# Activos ind\n",
    "for activo in annual_ret_summ.columns:\n",
    "    plt.plot(annual_ret_summ.loc['Volatilidad', activo], \n",
    "             annual_ret_summ.loc['Media', activo],\n",
    "             'o',\n",
    "             ms=5,\n",
    "             label = activo)\n",
    "# Port. óptimos\n",
    "plt.plot(s_minvar, E_minvar, '*g', ms=10, label='Portafolio de mínima varianza')\n",
    "plt.plot(s_emv, E_emv, '*r', ms=10, label='Portafolio eficiente en media varianza')\n",
    "plt.plot(LAC['Vol'], LAC['Media'], label = 'LAC')\n",
    "plt.plot(s1, E1, 'ob', ms=5, label='Índice Bonos')\n",
    "plt.plot(s2, E2, 'or', ms=5, label='Índice Acciones')\n",
    "plt.plot(s3, E3, 'oc', ms=5, label='Índice Desarrollado')\n",
    "plt.plot(s4, E4, 'ok', ms=5, label='Índice Emergente')\n",
    "plt.plot(s5, E5, 'om', ms=5, label='Índice Privados')\n",
    "plt.plot(s6, E6, 'oy', ms=5, label='Índice Real')\n",
    "plt.plot(0, rf, 'og', ms=5, label='Índice Libre riesgo')\n",
    "plt.xlabel('Volatilidad $\\sigma$')\n",
    "plt.ylabel('Rendimiento esperado $E[r]$')\n",
    "\n",
    "plt.grid()\n",
    "ax.legend(bbox_to_anchor=(1.5, 1), loc=2, borderaxespad=0.)\n",
    "\n"
   ]
  },
  {
   "cell_type": "code",
   "execution_count": 96,
   "metadata": {},
   "outputs": [
    {
     "data": {
      "text/plain": [
       "1.7735181353168143"
      ]
     },
     "execution_count": 96,
     "metadata": {},
     "output_type": "execute_result"
    }
   ],
   "source": [
    "# Para gamma=4\n",
    "g = 4\n",
    "w_opt = (E_emv - rf) / (g * s_emv**2)\n",
    "w_opt"
   ]
  },
  {
   "cell_type": "markdown",
   "metadata": {},
   "source": [
    "La recomendación sería una posición de más del 100% en el mercado de activos, invirtiendo 173% del capital que originalmente se tenía, de manera que sería necesario pedir prestado para lograr ese nivel de inversión de capital."
   ]
  },
  {
   "cell_type": "markdown",
   "metadata": {},
   "source": [
    "<script>\n",
    "  $(document).ready(function(){\n",
    "    $('div.prompt').hide();\n",
    "    $('div.back-to-top').hide();\n",
    "    $('nav#menubar').hide();\n",
    "    $('.breadcrumb').hide();\n",
    "    $('.hidden-print').hide();\n",
    "  });\n",
    "</script>\n",
    "\n",
    "<footer id=\"attribution\" style=\"float:right; color:#808080; background:#fff;\">\n",
    "Created with Jupyter by Esteban Jiménez Rodríguez.\n",
    "</footer>"
   ]
  }
 ],
 "metadata": {
  "kernelspec": {
   "display_name": "Python 3",
   "language": "python",
   "name": "python3"
  },
  "language_info": {
   "codemirror_mode": {
    "name": "ipython",
    "version": 3
   },
   "file_extension": ".py",
   "mimetype": "text/x-python",
   "name": "python",
   "nbconvert_exporter": "python",
   "pygments_lexer": "ipython3",
   "version": "3.7.1"
  }
 },
 "nbformat": 4,
 "nbformat_minor": 2
}
